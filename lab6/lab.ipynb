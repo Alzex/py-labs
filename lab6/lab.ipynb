{
 "cells": [
  {
   "cell_type": "code",
   "execution_count": 60,
   "id": "initial_id",
   "metadata": {
    "collapsed": true,
    "ExecuteTime": {
     "end_time": "2023-12-17T18:33:13.361260700Z",
     "start_time": "2023-12-17T18:33:13.268512200Z"
    }
   },
   "outputs": [
    {
     "data": {
      "text/plain": "   Unnamed: 0.1  Unnamed: 0       open_SAR  open_USD       high_SAR  high_USD  \\\n0             0  2021-01-30  128437.248512  34246.28    131012.7232  34933.00   \n1             1  2021-01-29  125144.022272  33368.18   144510.03776  38531.90   \n2             2  2021-01-28  113870.357376  30362.19  126703.438592  33783.98   \n3             3  2021-01-27  121753.023104  32464.01  122102.860416  32557.29   \n4             4  2021-01-26  120966.114176  32254.19  123470.218752  32921.88   \n5             5  2021-01-25   120985.84128  32259.45       130795.2  34875.00   \n6             6  2021-01-24    120305.3312  32078.00    124029.4784  33071.00   \n7             7  2021-01-23      123575.68  32950.00    125473.3824  33456.00   \n8             8  2021-01-22  115707.303296  30851.99  126863.018112  33826.53   \n9             9  2021-01-21  133020.049792  35468.23      133514.24  35600.00   \n\n         low_SAR   low_USD      close_SAR  close_USD    volume  \n0      123106.88     32825  128333.212416   34218.54   43072.0  \n1   119695.51616   31915.4  128459.450880   34252.20  231827.0  \n2   111919.81184   29842.1  125131.570944   33364.86   92621.0  \n3  109668.146688  29241.72  113885.208960   30366.15   95911.0  \n4  115652.472448  30837.37  121767.124608   32467.77   84972.0  \n5     119675.264     31910  120966.151680   32254.20   88499.0  \n6      115887.36     30900  120987.528960   32259.90   57978.0  \n7  117725.656064  31390.16  120305.331200   32078.00   64595.0  \n8      108199.04     28850  123557.565568   32945.17  142971.0  \n9    112778.2784     30071  115700.327552   30850.13  131803.0  ",
      "text/html": "<div>\n<style scoped>\n    .dataframe tbody tr th:only-of-type {\n        vertical-align: middle;\n    }\n\n    .dataframe tbody tr th {\n        vertical-align: top;\n    }\n\n    .dataframe thead th {\n        text-align: right;\n    }\n</style>\n<table border=\"1\" class=\"dataframe\">\n  <thead>\n    <tr style=\"text-align: right;\">\n      <th></th>\n      <th>Unnamed: 0.1</th>\n      <th>Unnamed: 0</th>\n      <th>open_SAR</th>\n      <th>open_USD</th>\n      <th>high_SAR</th>\n      <th>high_USD</th>\n      <th>low_SAR</th>\n      <th>low_USD</th>\n      <th>close_SAR</th>\n      <th>close_USD</th>\n      <th>volume</th>\n    </tr>\n  </thead>\n  <tbody>\n    <tr>\n      <th>0</th>\n      <td>0</td>\n      <td>2021-01-30</td>\n      <td>128437.248512</td>\n      <td>34246.28</td>\n      <td>131012.7232</td>\n      <td>34933.00</td>\n      <td>123106.88</td>\n      <td>32825</td>\n      <td>128333.212416</td>\n      <td>34218.54</td>\n      <td>43072.0</td>\n    </tr>\n    <tr>\n      <th>1</th>\n      <td>1</td>\n      <td>2021-01-29</td>\n      <td>125144.022272</td>\n      <td>33368.18</td>\n      <td>144510.03776</td>\n      <td>38531.90</td>\n      <td>119695.51616</td>\n      <td>31915.4</td>\n      <td>128459.450880</td>\n      <td>34252.20</td>\n      <td>231827.0</td>\n    </tr>\n    <tr>\n      <th>2</th>\n      <td>2</td>\n      <td>2021-01-28</td>\n      <td>113870.357376</td>\n      <td>30362.19</td>\n      <td>126703.438592</td>\n      <td>33783.98</td>\n      <td>111919.81184</td>\n      <td>29842.1</td>\n      <td>125131.570944</td>\n      <td>33364.86</td>\n      <td>92621.0</td>\n    </tr>\n    <tr>\n      <th>3</th>\n      <td>3</td>\n      <td>2021-01-27</td>\n      <td>121753.023104</td>\n      <td>32464.01</td>\n      <td>122102.860416</td>\n      <td>32557.29</td>\n      <td>109668.146688</td>\n      <td>29241.72</td>\n      <td>113885.208960</td>\n      <td>30366.15</td>\n      <td>95911.0</td>\n    </tr>\n    <tr>\n      <th>4</th>\n      <td>4</td>\n      <td>2021-01-26</td>\n      <td>120966.114176</td>\n      <td>32254.19</td>\n      <td>123470.218752</td>\n      <td>32921.88</td>\n      <td>115652.472448</td>\n      <td>30837.37</td>\n      <td>121767.124608</td>\n      <td>32467.77</td>\n      <td>84972.0</td>\n    </tr>\n    <tr>\n      <th>5</th>\n      <td>5</td>\n      <td>2021-01-25</td>\n      <td>120985.84128</td>\n      <td>32259.45</td>\n      <td>130795.2</td>\n      <td>34875.00</td>\n      <td>119675.264</td>\n      <td>31910</td>\n      <td>120966.151680</td>\n      <td>32254.20</td>\n      <td>88499.0</td>\n    </tr>\n    <tr>\n      <th>6</th>\n      <td>6</td>\n      <td>2021-01-24</td>\n      <td>120305.3312</td>\n      <td>32078.00</td>\n      <td>124029.4784</td>\n      <td>33071.00</td>\n      <td>115887.36</td>\n      <td>30900</td>\n      <td>120987.528960</td>\n      <td>32259.90</td>\n      <td>57978.0</td>\n    </tr>\n    <tr>\n      <th>7</th>\n      <td>7</td>\n      <td>2021-01-23</td>\n      <td>123575.68</td>\n      <td>32950.00</td>\n      <td>125473.3824</td>\n      <td>33456.00</td>\n      <td>117725.656064</td>\n      <td>31390.16</td>\n      <td>120305.331200</td>\n      <td>32078.00</td>\n      <td>64595.0</td>\n    </tr>\n    <tr>\n      <th>8</th>\n      <td>8</td>\n      <td>2021-01-22</td>\n      <td>115707.303296</td>\n      <td>30851.99</td>\n      <td>126863.018112</td>\n      <td>33826.53</td>\n      <td>108199.04</td>\n      <td>28850</td>\n      <td>123557.565568</td>\n      <td>32945.17</td>\n      <td>142971.0</td>\n    </tr>\n    <tr>\n      <th>9</th>\n      <td>9</td>\n      <td>2021-01-21</td>\n      <td>133020.049792</td>\n      <td>35468.23</td>\n      <td>133514.24</td>\n      <td>35600.00</td>\n      <td>112778.2784</td>\n      <td>30071</td>\n      <td>115700.327552</td>\n      <td>30850.13</td>\n      <td>131803.0</td>\n    </tr>\n  </tbody>\n</table>\n</div>"
     },
     "execution_count": 60,
     "metadata": {},
     "output_type": "execute_result"
    }
   ],
   "source": [
    "import pandas as pd\n",
    "data = pd.read_excel('version_13.xlsx')\n",
    "\n",
    "data.head(10)"
   ]
  },
  {
   "cell_type": "code",
   "execution_count": 61,
   "outputs": [
    {
     "data": {
      "text/plain": "         date       open_SAR  open_USD       high_SAR  high_USD  \\\n0  2021-01-30  128437.248512  34246.28    131012.7232  34933.00   \n1  2021-01-29  125144.022272  33368.18   144510.03776  38531.90   \n2  2021-01-28  113870.357376  30362.19  126703.438592  33783.98   \n3  2021-01-27  121753.023104  32464.01  122102.860416  32557.29   \n4  2021-01-26  120966.114176  32254.19  123470.218752  32921.88   \n5  2021-01-25   120985.84128  32259.45       130795.2  34875.00   \n6  2021-01-24    120305.3312  32078.00    124029.4784  33071.00   \n7  2021-01-23      123575.68  32950.00    125473.3824  33456.00   \n8  2021-01-22  115707.303296  30851.99  126863.018112  33826.53   \n9  2021-01-21  133020.049792  35468.23      133514.24  35600.00   \n\n         low_SAR   low_USD      close_SAR  close_USD    volume  \n0      123106.88     32825  128333.212416   34218.54   43072.0  \n1   119695.51616   31915.4  128459.450880   34252.20  231827.0  \n2   111919.81184   29842.1  125131.570944   33364.86   92621.0  \n3  109668.146688  29241.72  113885.208960   30366.15   95911.0  \n4  115652.472448  30837.37  121767.124608   32467.77   84972.0  \n5     119675.264     31910  120966.151680   32254.20   88499.0  \n6      115887.36     30900  120987.528960   32259.90   57978.0  \n7  117725.656064  31390.16  120305.331200   32078.00   64595.0  \n8      108199.04     28850  123557.565568   32945.17  142971.0  \n9    112778.2784     30071  115700.327552   30850.13  131803.0  ",
      "text/html": "<div>\n<style scoped>\n    .dataframe tbody tr th:only-of-type {\n        vertical-align: middle;\n    }\n\n    .dataframe tbody tr th {\n        vertical-align: top;\n    }\n\n    .dataframe thead th {\n        text-align: right;\n    }\n</style>\n<table border=\"1\" class=\"dataframe\">\n  <thead>\n    <tr style=\"text-align: right;\">\n      <th></th>\n      <th>date</th>\n      <th>open_SAR</th>\n      <th>open_USD</th>\n      <th>high_SAR</th>\n      <th>high_USD</th>\n      <th>low_SAR</th>\n      <th>low_USD</th>\n      <th>close_SAR</th>\n      <th>close_USD</th>\n      <th>volume</th>\n    </tr>\n  </thead>\n  <tbody>\n    <tr>\n      <th>0</th>\n      <td>2021-01-30</td>\n      <td>128437.248512</td>\n      <td>34246.28</td>\n      <td>131012.7232</td>\n      <td>34933.00</td>\n      <td>123106.88</td>\n      <td>32825</td>\n      <td>128333.212416</td>\n      <td>34218.54</td>\n      <td>43072.0</td>\n    </tr>\n    <tr>\n      <th>1</th>\n      <td>2021-01-29</td>\n      <td>125144.022272</td>\n      <td>33368.18</td>\n      <td>144510.03776</td>\n      <td>38531.90</td>\n      <td>119695.51616</td>\n      <td>31915.4</td>\n      <td>128459.450880</td>\n      <td>34252.20</td>\n      <td>231827.0</td>\n    </tr>\n    <tr>\n      <th>2</th>\n      <td>2021-01-28</td>\n      <td>113870.357376</td>\n      <td>30362.19</td>\n      <td>126703.438592</td>\n      <td>33783.98</td>\n      <td>111919.81184</td>\n      <td>29842.1</td>\n      <td>125131.570944</td>\n      <td>33364.86</td>\n      <td>92621.0</td>\n    </tr>\n    <tr>\n      <th>3</th>\n      <td>2021-01-27</td>\n      <td>121753.023104</td>\n      <td>32464.01</td>\n      <td>122102.860416</td>\n      <td>32557.29</td>\n      <td>109668.146688</td>\n      <td>29241.72</td>\n      <td>113885.208960</td>\n      <td>30366.15</td>\n      <td>95911.0</td>\n    </tr>\n    <tr>\n      <th>4</th>\n      <td>2021-01-26</td>\n      <td>120966.114176</td>\n      <td>32254.19</td>\n      <td>123470.218752</td>\n      <td>32921.88</td>\n      <td>115652.472448</td>\n      <td>30837.37</td>\n      <td>121767.124608</td>\n      <td>32467.77</td>\n      <td>84972.0</td>\n    </tr>\n    <tr>\n      <th>5</th>\n      <td>2021-01-25</td>\n      <td>120985.84128</td>\n      <td>32259.45</td>\n      <td>130795.2</td>\n      <td>34875.00</td>\n      <td>119675.264</td>\n      <td>31910</td>\n      <td>120966.151680</td>\n      <td>32254.20</td>\n      <td>88499.0</td>\n    </tr>\n    <tr>\n      <th>6</th>\n      <td>2021-01-24</td>\n      <td>120305.3312</td>\n      <td>32078.00</td>\n      <td>124029.4784</td>\n      <td>33071.00</td>\n      <td>115887.36</td>\n      <td>30900</td>\n      <td>120987.528960</td>\n      <td>32259.90</td>\n      <td>57978.0</td>\n    </tr>\n    <tr>\n      <th>7</th>\n      <td>2021-01-23</td>\n      <td>123575.68</td>\n      <td>32950.00</td>\n      <td>125473.3824</td>\n      <td>33456.00</td>\n      <td>117725.656064</td>\n      <td>31390.16</td>\n      <td>120305.331200</td>\n      <td>32078.00</td>\n      <td>64595.0</td>\n    </tr>\n    <tr>\n      <th>8</th>\n      <td>2021-01-22</td>\n      <td>115707.303296</td>\n      <td>30851.99</td>\n      <td>126863.018112</td>\n      <td>33826.53</td>\n      <td>108199.04</td>\n      <td>28850</td>\n      <td>123557.565568</td>\n      <td>32945.17</td>\n      <td>142971.0</td>\n    </tr>\n    <tr>\n      <th>9</th>\n      <td>2021-01-21</td>\n      <td>133020.049792</td>\n      <td>35468.23</td>\n      <td>133514.24</td>\n      <td>35600.00</td>\n      <td>112778.2784</td>\n      <td>30071</td>\n      <td>115700.327552</td>\n      <td>30850.13</td>\n      <td>131803.0</td>\n    </tr>\n  </tbody>\n</table>\n</div>"
     },
     "execution_count": 61,
     "metadata": {},
     "output_type": "execute_result"
    }
   ],
   "source": [
    "# rename the date column and drop unnecessary columns\n",
    "data = data.rename(columns={'Unnamed: 0':'date'}).drop(columns=['Unnamed: 0.1'])\n",
    "\n",
    "data.head(10)"
   ],
   "metadata": {
    "collapsed": false,
    "ExecuteTime": {
     "end_time": "2023-12-17T18:33:13.367970Z",
     "start_time": "2023-12-17T18:33:13.355254500Z"
    }
   },
   "id": "8e330c10b57a35fb"
  },
  {
   "cell_type": "code",
   "execution_count": 62,
   "outputs": [
    {
     "name": "stdout",
     "output_type": "stream",
     "text": [
      "Null values:\n",
      "date         0\n",
      "open_SAR     5\n",
      "open_USD     4\n",
      "high_SAR     4\n",
      "high_USD     5\n",
      "low_SAR      8\n",
      "low_USD      4\n",
      "close_SAR    4\n",
      "close_USD    4\n",
      "volume       6\n",
      "dtype: int64\n",
      "\n",
      "Duplicate rows: 11\n",
      "\n",
      "Data types:\n",
      "date          object\n",
      "open_SAR      object\n",
      "open_USD     float64\n",
      "high_SAR      object\n",
      "high_USD     float64\n",
      "low_SAR       object\n",
      "low_USD       object\n",
      "close_SAR    float64\n",
      "close_USD    float64\n",
      "volume       float64\n",
      "dtype: object\n"
     ]
    }
   ],
   "source": [
    "def analyse(data_in):\n",
    "    null_values = data_in.isnull().sum()\n",
    "    duplicate_rows = data_in.duplicated().sum()\n",
    "    data_types = data_in.dtypes\n",
    "    print('Null values:\\n%s\\n\\nDuplicate rows: %i\\n\\nData types:\\n%s' % (null_values, duplicate_rows, data_types))\n",
    "\n",
    "analyse(data)"
   ],
   "metadata": {
    "collapsed": false,
    "ExecuteTime": {
     "end_time": "2023-12-17T18:33:13.390583800Z",
     "start_time": "2023-12-17T18:33:13.365284500Z"
    }
   },
   "id": "80f82f1e266cbeaf"
  },
  {
   "cell_type": "code",
   "execution_count": 63,
   "outputs": [
    {
     "data": {
      "text/plain": "        date       open_SAR  open_USD       high_SAR  high_USD        low_SAR  \\\n0 2021-01-30  128437.248512  34246.28  131012.723200  34933.00  123106.880000   \n1 2021-01-29  125144.022272  33368.18  144510.037760  38531.90  119695.516160   \n2 2021-01-28  113870.357376  30362.19  126703.438592  33783.98  111919.811840   \n3 2021-01-27  121753.023104  32464.01  122102.860416  32557.29  109668.146688   \n4 2021-01-26  120966.114176  32254.19  123470.218752  32921.88  115652.472448   \n\n    low_USD      close_SAR  close_USD    volume  \n0  32825.00  128333.212416   34218.54   43072.0  \n1  31915.40  128459.450880   34252.20  231827.0  \n2  29842.10  125131.570944   33364.86   92621.0  \n3  29241.72  113885.208960   30366.15   95911.0  \n4  30837.37  121767.124608   32467.77   84972.0  ",
      "text/html": "<div>\n<style scoped>\n    .dataframe tbody tr th:only-of-type {\n        vertical-align: middle;\n    }\n\n    .dataframe tbody tr th {\n        vertical-align: top;\n    }\n\n    .dataframe thead th {\n        text-align: right;\n    }\n</style>\n<table border=\"1\" class=\"dataframe\">\n  <thead>\n    <tr style=\"text-align: right;\">\n      <th></th>\n      <th>date</th>\n      <th>open_SAR</th>\n      <th>open_USD</th>\n      <th>high_SAR</th>\n      <th>high_USD</th>\n      <th>low_SAR</th>\n      <th>low_USD</th>\n      <th>close_SAR</th>\n      <th>close_USD</th>\n      <th>volume</th>\n    </tr>\n  </thead>\n  <tbody>\n    <tr>\n      <th>0</th>\n      <td>2021-01-30</td>\n      <td>128437.248512</td>\n      <td>34246.28</td>\n      <td>131012.723200</td>\n      <td>34933.00</td>\n      <td>123106.880000</td>\n      <td>32825.00</td>\n      <td>128333.212416</td>\n      <td>34218.54</td>\n      <td>43072.0</td>\n    </tr>\n    <tr>\n      <th>1</th>\n      <td>2021-01-29</td>\n      <td>125144.022272</td>\n      <td>33368.18</td>\n      <td>144510.037760</td>\n      <td>38531.90</td>\n      <td>119695.516160</td>\n      <td>31915.40</td>\n      <td>128459.450880</td>\n      <td>34252.20</td>\n      <td>231827.0</td>\n    </tr>\n    <tr>\n      <th>2</th>\n      <td>2021-01-28</td>\n      <td>113870.357376</td>\n      <td>30362.19</td>\n      <td>126703.438592</td>\n      <td>33783.98</td>\n      <td>111919.811840</td>\n      <td>29842.10</td>\n      <td>125131.570944</td>\n      <td>33364.86</td>\n      <td>92621.0</td>\n    </tr>\n    <tr>\n      <th>3</th>\n      <td>2021-01-27</td>\n      <td>121753.023104</td>\n      <td>32464.01</td>\n      <td>122102.860416</td>\n      <td>32557.29</td>\n      <td>109668.146688</td>\n      <td>29241.72</td>\n      <td>113885.208960</td>\n      <td>30366.15</td>\n      <td>95911.0</td>\n    </tr>\n    <tr>\n      <th>4</th>\n      <td>2021-01-26</td>\n      <td>120966.114176</td>\n      <td>32254.19</td>\n      <td>123470.218752</td>\n      <td>32921.88</td>\n      <td>115652.472448</td>\n      <td>30837.37</td>\n      <td>121767.124608</td>\n      <td>32467.77</td>\n      <td>84972.0</td>\n    </tr>\n  </tbody>\n</table>\n</div>"
     },
     "execution_count": 63,
     "metadata": {},
     "output_type": "execute_result"
    }
   ],
   "source": [
    "numeric_cols = ['open_SAR', 'open_USD', 'high_SAR', 'high_USD', 'low_SAR', 'low_USD', 'close_SAR', 'close_USD', 'volume']\n",
    "date_cols = ['date']\n",
    "\n",
    "# Converting the data types to valid ones\n",
    "data[date_cols] = data[date_cols].apply(pd.to_datetime, errors='coerce')\n",
    "data[numeric_cols] = data[numeric_cols].apply(pd.to_numeric, errors='coerce')\n",
    "\n",
    "# Dropping the duplicates\n",
    "data = data.drop_duplicates()\n",
    "\n",
    "#filling the missing values with mean\n",
    "data = data.fillna(data.mean())\n",
    "\n",
    "data.head()"
   ],
   "metadata": {
    "collapsed": false,
    "ExecuteTime": {
     "end_time": "2023-12-17T18:33:13.412675700Z",
     "start_time": "2023-12-17T18:33:13.374515300Z"
    }
   },
   "id": "e0c55db1c2cb2477"
  },
  {
   "cell_type": "code",
   "execution_count": 64,
   "outputs": [
    {
     "name": "stdout",
     "output_type": "stream",
     "text": [
      "Null values:\n",
      "date         0\n",
      "open_SAR     0\n",
      "open_USD     0\n",
      "high_SAR     0\n",
      "high_USD     0\n",
      "low_SAR      0\n",
      "low_USD      0\n",
      "close_SAR    0\n",
      "close_USD    0\n",
      "volume       0\n",
      "dtype: int64\n",
      "\n",
      "Duplicate rows: 0\n",
      "\n",
      "Data types:\n",
      "date         datetime64[ns]\n",
      "open_SAR            float64\n",
      "open_USD            float64\n",
      "high_SAR            float64\n",
      "high_USD            float64\n",
      "low_SAR             float64\n",
      "low_USD             float64\n",
      "close_SAR           float64\n",
      "close_USD           float64\n",
      "volume              float64\n",
      "dtype: object\n"
     ]
    }
   ],
   "source": [
    "# Analyse the data after cleaning\n",
    "analyse(data)"
   ],
   "metadata": {
    "collapsed": false,
    "ExecuteTime": {
     "end_time": "2023-12-17T18:33:13.413196700Z",
     "start_time": "2023-12-17T18:33:13.387582Z"
    }
   },
   "id": "93d3c72e499893f6"
  }
 ],
 "metadata": {
  "kernelspec": {
   "display_name": "Python 3",
   "language": "python",
   "name": "python3"
  },
  "language_info": {
   "codemirror_mode": {
    "name": "ipython",
    "version": 2
   },
   "file_extension": ".py",
   "mimetype": "text/x-python",
   "name": "python",
   "nbconvert_exporter": "python",
   "pygments_lexer": "ipython2",
   "version": "2.7.6"
  }
 },
 "nbformat": 4,
 "nbformat_minor": 5
}
