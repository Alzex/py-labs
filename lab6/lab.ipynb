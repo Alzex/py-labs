{
 "cells": [
  {
   "cell_type": "code",
   "execution_count": 243,
   "id": "initial_id",
   "metadata": {
    "collapsed": true,
    "ExecuteTime": {
     "end_time": "2023-12-21T21:25:47.181660100Z",
     "start_time": "2023-12-21T21:25:47.086485300Z"
    }
   },
   "outputs": [
    {
     "data": {
      "text/plain": "   Unnamed: 0.1  Unnamed: 0       open_SAR  open_USD       high_SAR  high_USD  \\\n0             0  2021-01-30  128437.248512  34246.28    131012.7232  34933.00   \n1             1  2021-01-29  125144.022272  33368.18   144510.03776  38531.90   \n2             2  2021-01-28  113870.357376  30362.19  126703.438592  33783.98   \n3             3  2021-01-27  121753.023104  32464.01  122102.860416  32557.29   \n4             4  2021-01-26  120966.114176  32254.19  123470.218752  32921.88   \n5             5  2021-01-25   120985.84128  32259.45       130795.2  34875.00   \n6             6  2021-01-24    120305.3312  32078.00    124029.4784  33071.00   \n7             7  2021-01-23      123575.68  32950.00    125473.3824  33456.00   \n8             8  2021-01-22  115707.303296  30851.99  126863.018112  33826.53   \n9             9  2021-01-21  133020.049792  35468.23      133514.24  35600.00   \n\n         low_SAR   low_USD      close_SAR  close_USD    volume  \n0      123106.88     32825  128333.212416   34218.54   43072.0  \n1   119695.51616   31915.4  128459.450880   34252.20  231827.0  \n2   111919.81184   29842.1  125131.570944   33364.86   92621.0  \n3  109668.146688  29241.72  113885.208960   30366.15   95911.0  \n4  115652.472448  30837.37  121767.124608   32467.77   84972.0  \n5     119675.264     31910  120966.151680   32254.20   88499.0  \n6      115887.36     30900  120987.528960   32259.90   57978.0  \n7  117725.656064  31390.16  120305.331200   32078.00   64595.0  \n8      108199.04     28850  123557.565568   32945.17  142971.0  \n9    112778.2784     30071  115700.327552   30850.13  131803.0  ",
      "text/html": "<div>\n<style scoped>\n    .dataframe tbody tr th:only-of-type {\n        vertical-align: middle;\n    }\n\n    .dataframe tbody tr th {\n        vertical-align: top;\n    }\n\n    .dataframe thead th {\n        text-align: right;\n    }\n</style>\n<table border=\"1\" class=\"dataframe\">\n  <thead>\n    <tr style=\"text-align: right;\">\n      <th></th>\n      <th>Unnamed: 0.1</th>\n      <th>Unnamed: 0</th>\n      <th>open_SAR</th>\n      <th>open_USD</th>\n      <th>high_SAR</th>\n      <th>high_USD</th>\n      <th>low_SAR</th>\n      <th>low_USD</th>\n      <th>close_SAR</th>\n      <th>close_USD</th>\n      <th>volume</th>\n    </tr>\n  </thead>\n  <tbody>\n    <tr>\n      <th>0</th>\n      <td>0</td>\n      <td>2021-01-30</td>\n      <td>128437.248512</td>\n      <td>34246.28</td>\n      <td>131012.7232</td>\n      <td>34933.00</td>\n      <td>123106.88</td>\n      <td>32825</td>\n      <td>128333.212416</td>\n      <td>34218.54</td>\n      <td>43072.0</td>\n    </tr>\n    <tr>\n      <th>1</th>\n      <td>1</td>\n      <td>2021-01-29</td>\n      <td>125144.022272</td>\n      <td>33368.18</td>\n      <td>144510.03776</td>\n      <td>38531.90</td>\n      <td>119695.51616</td>\n      <td>31915.4</td>\n      <td>128459.450880</td>\n      <td>34252.20</td>\n      <td>231827.0</td>\n    </tr>\n    <tr>\n      <th>2</th>\n      <td>2</td>\n      <td>2021-01-28</td>\n      <td>113870.357376</td>\n      <td>30362.19</td>\n      <td>126703.438592</td>\n      <td>33783.98</td>\n      <td>111919.81184</td>\n      <td>29842.1</td>\n      <td>125131.570944</td>\n      <td>33364.86</td>\n      <td>92621.0</td>\n    </tr>\n    <tr>\n      <th>3</th>\n      <td>3</td>\n      <td>2021-01-27</td>\n      <td>121753.023104</td>\n      <td>32464.01</td>\n      <td>122102.860416</td>\n      <td>32557.29</td>\n      <td>109668.146688</td>\n      <td>29241.72</td>\n      <td>113885.208960</td>\n      <td>30366.15</td>\n      <td>95911.0</td>\n    </tr>\n    <tr>\n      <th>4</th>\n      <td>4</td>\n      <td>2021-01-26</td>\n      <td>120966.114176</td>\n      <td>32254.19</td>\n      <td>123470.218752</td>\n      <td>32921.88</td>\n      <td>115652.472448</td>\n      <td>30837.37</td>\n      <td>121767.124608</td>\n      <td>32467.77</td>\n      <td>84972.0</td>\n    </tr>\n    <tr>\n      <th>5</th>\n      <td>5</td>\n      <td>2021-01-25</td>\n      <td>120985.84128</td>\n      <td>32259.45</td>\n      <td>130795.2</td>\n      <td>34875.00</td>\n      <td>119675.264</td>\n      <td>31910</td>\n      <td>120966.151680</td>\n      <td>32254.20</td>\n      <td>88499.0</td>\n    </tr>\n    <tr>\n      <th>6</th>\n      <td>6</td>\n      <td>2021-01-24</td>\n      <td>120305.3312</td>\n      <td>32078.00</td>\n      <td>124029.4784</td>\n      <td>33071.00</td>\n      <td>115887.36</td>\n      <td>30900</td>\n      <td>120987.528960</td>\n      <td>32259.90</td>\n      <td>57978.0</td>\n    </tr>\n    <tr>\n      <th>7</th>\n      <td>7</td>\n      <td>2021-01-23</td>\n      <td>123575.68</td>\n      <td>32950.00</td>\n      <td>125473.3824</td>\n      <td>33456.00</td>\n      <td>117725.656064</td>\n      <td>31390.16</td>\n      <td>120305.331200</td>\n      <td>32078.00</td>\n      <td>64595.0</td>\n    </tr>\n    <tr>\n      <th>8</th>\n      <td>8</td>\n      <td>2021-01-22</td>\n      <td>115707.303296</td>\n      <td>30851.99</td>\n      <td>126863.018112</td>\n      <td>33826.53</td>\n      <td>108199.04</td>\n      <td>28850</td>\n      <td>123557.565568</td>\n      <td>32945.17</td>\n      <td>142971.0</td>\n    </tr>\n    <tr>\n      <th>9</th>\n      <td>9</td>\n      <td>2021-01-21</td>\n      <td>133020.049792</td>\n      <td>35468.23</td>\n      <td>133514.24</td>\n      <td>35600.00</td>\n      <td>112778.2784</td>\n      <td>30071</td>\n      <td>115700.327552</td>\n      <td>30850.13</td>\n      <td>131803.0</td>\n    </tr>\n  </tbody>\n</table>\n</div>"
     },
     "execution_count": 243,
     "metadata": {},
     "output_type": "execute_result"
    }
   ],
   "source": [
    "import pandas as pd\n",
    "data = pd.read_excel('version_13.xlsx')\n",
    "\n",
    "data.head(10)"
   ]
  },
  {
   "cell_type": "code",
   "execution_count": 244,
   "outputs": [
    {
     "data": {
      "text/plain": "         date       open_SAR  open_USD       high_SAR  high_USD  \\\n0  2021-01-30  128437.248512  34246.28    131012.7232  34933.00   \n1  2021-01-29  125144.022272  33368.18   144510.03776  38531.90   \n2  2021-01-28  113870.357376  30362.19  126703.438592  33783.98   \n3  2021-01-27  121753.023104  32464.01  122102.860416  32557.29   \n4  2021-01-26  120966.114176  32254.19  123470.218752  32921.88   \n5  2021-01-25   120985.84128  32259.45       130795.2  34875.00   \n6  2021-01-24    120305.3312  32078.00    124029.4784  33071.00   \n7  2021-01-23      123575.68  32950.00    125473.3824  33456.00   \n8  2021-01-22  115707.303296  30851.99  126863.018112  33826.53   \n9  2021-01-21  133020.049792  35468.23      133514.24  35600.00   \n\n         low_SAR   low_USD      close_SAR  close_USD    volume  \n0      123106.88     32825  128333.212416   34218.54   43072.0  \n1   119695.51616   31915.4  128459.450880   34252.20  231827.0  \n2   111919.81184   29842.1  125131.570944   33364.86   92621.0  \n3  109668.146688  29241.72  113885.208960   30366.15   95911.0  \n4  115652.472448  30837.37  121767.124608   32467.77   84972.0  \n5     119675.264     31910  120966.151680   32254.20   88499.0  \n6      115887.36     30900  120987.528960   32259.90   57978.0  \n7  117725.656064  31390.16  120305.331200   32078.00   64595.0  \n8      108199.04     28850  123557.565568   32945.17  142971.0  \n9    112778.2784     30071  115700.327552   30850.13  131803.0  ",
      "text/html": "<div>\n<style scoped>\n    .dataframe tbody tr th:only-of-type {\n        vertical-align: middle;\n    }\n\n    .dataframe tbody tr th {\n        vertical-align: top;\n    }\n\n    .dataframe thead th {\n        text-align: right;\n    }\n</style>\n<table border=\"1\" class=\"dataframe\">\n  <thead>\n    <tr style=\"text-align: right;\">\n      <th></th>\n      <th>date</th>\n      <th>open_SAR</th>\n      <th>open_USD</th>\n      <th>high_SAR</th>\n      <th>high_USD</th>\n      <th>low_SAR</th>\n      <th>low_USD</th>\n      <th>close_SAR</th>\n      <th>close_USD</th>\n      <th>volume</th>\n    </tr>\n  </thead>\n  <tbody>\n    <tr>\n      <th>0</th>\n      <td>2021-01-30</td>\n      <td>128437.248512</td>\n      <td>34246.28</td>\n      <td>131012.7232</td>\n      <td>34933.00</td>\n      <td>123106.88</td>\n      <td>32825</td>\n      <td>128333.212416</td>\n      <td>34218.54</td>\n      <td>43072.0</td>\n    </tr>\n    <tr>\n      <th>1</th>\n      <td>2021-01-29</td>\n      <td>125144.022272</td>\n      <td>33368.18</td>\n      <td>144510.03776</td>\n      <td>38531.90</td>\n      <td>119695.51616</td>\n      <td>31915.4</td>\n      <td>128459.450880</td>\n      <td>34252.20</td>\n      <td>231827.0</td>\n    </tr>\n    <tr>\n      <th>2</th>\n      <td>2021-01-28</td>\n      <td>113870.357376</td>\n      <td>30362.19</td>\n      <td>126703.438592</td>\n      <td>33783.98</td>\n      <td>111919.81184</td>\n      <td>29842.1</td>\n      <td>125131.570944</td>\n      <td>33364.86</td>\n      <td>92621.0</td>\n    </tr>\n    <tr>\n      <th>3</th>\n      <td>2021-01-27</td>\n      <td>121753.023104</td>\n      <td>32464.01</td>\n      <td>122102.860416</td>\n      <td>32557.29</td>\n      <td>109668.146688</td>\n      <td>29241.72</td>\n      <td>113885.208960</td>\n      <td>30366.15</td>\n      <td>95911.0</td>\n    </tr>\n    <tr>\n      <th>4</th>\n      <td>2021-01-26</td>\n      <td>120966.114176</td>\n      <td>32254.19</td>\n      <td>123470.218752</td>\n      <td>32921.88</td>\n      <td>115652.472448</td>\n      <td>30837.37</td>\n      <td>121767.124608</td>\n      <td>32467.77</td>\n      <td>84972.0</td>\n    </tr>\n    <tr>\n      <th>5</th>\n      <td>2021-01-25</td>\n      <td>120985.84128</td>\n      <td>32259.45</td>\n      <td>130795.2</td>\n      <td>34875.00</td>\n      <td>119675.264</td>\n      <td>31910</td>\n      <td>120966.151680</td>\n      <td>32254.20</td>\n      <td>88499.0</td>\n    </tr>\n    <tr>\n      <th>6</th>\n      <td>2021-01-24</td>\n      <td>120305.3312</td>\n      <td>32078.00</td>\n      <td>124029.4784</td>\n      <td>33071.00</td>\n      <td>115887.36</td>\n      <td>30900</td>\n      <td>120987.528960</td>\n      <td>32259.90</td>\n      <td>57978.0</td>\n    </tr>\n    <tr>\n      <th>7</th>\n      <td>2021-01-23</td>\n      <td>123575.68</td>\n      <td>32950.00</td>\n      <td>125473.3824</td>\n      <td>33456.00</td>\n      <td>117725.656064</td>\n      <td>31390.16</td>\n      <td>120305.331200</td>\n      <td>32078.00</td>\n      <td>64595.0</td>\n    </tr>\n    <tr>\n      <th>8</th>\n      <td>2021-01-22</td>\n      <td>115707.303296</td>\n      <td>30851.99</td>\n      <td>126863.018112</td>\n      <td>33826.53</td>\n      <td>108199.04</td>\n      <td>28850</td>\n      <td>123557.565568</td>\n      <td>32945.17</td>\n      <td>142971.0</td>\n    </tr>\n    <tr>\n      <th>9</th>\n      <td>2021-01-21</td>\n      <td>133020.049792</td>\n      <td>35468.23</td>\n      <td>133514.24</td>\n      <td>35600.00</td>\n      <td>112778.2784</td>\n      <td>30071</td>\n      <td>115700.327552</td>\n      <td>30850.13</td>\n      <td>131803.0</td>\n    </tr>\n  </tbody>\n</table>\n</div>"
     },
     "execution_count": 244,
     "metadata": {},
     "output_type": "execute_result"
    }
   ],
   "source": [
    "# rename the date column and drop unnecessary columns\n",
    "data = data.rename(columns={'Unnamed: 0':'date'}).drop(columns=['Unnamed: 0.1'])\n",
    "\n",
    "data.head(10)"
   ],
   "metadata": {
    "collapsed": false,
    "ExecuteTime": {
     "end_time": "2023-12-21T21:25:47.188223100Z",
     "start_time": "2023-12-21T21:25:47.177124100Z"
    }
   },
   "id": "8e330c10b57a35fb"
  },
  {
   "cell_type": "code",
   "execution_count": 245,
   "outputs": [
    {
     "name": "stdout",
     "output_type": "stream",
     "text": [
      "Null values:\n",
      "date         0\n",
      "open_SAR     5\n",
      "open_USD     4\n",
      "high_SAR     4\n",
      "high_USD     5\n",
      "low_SAR      8\n",
      "low_USD      4\n",
      "close_SAR    4\n",
      "close_USD    4\n",
      "volume       6\n",
      "dtype: int64\n",
      "\n",
      "Duplicate rows: 11\n",
      "\n",
      "Data types:\n",
      "date          object\n",
      "open_SAR      object\n",
      "open_USD     float64\n",
      "high_SAR      object\n",
      "high_USD     float64\n",
      "low_SAR       object\n",
      "low_USD       object\n",
      "close_SAR    float64\n",
      "close_USD    float64\n",
      "volume       float64\n",
      "dtype: object\n"
     ]
    }
   ],
   "source": [
    "def analyse(data_in):\n",
    "    null_values = data_in.isnull().sum()\n",
    "    duplicate_rows = data_in.duplicated().sum()\n",
    "    data_types = data_in.dtypes\n",
    "    print('Null values:\\n%s\\n\\nDuplicate rows: %i\\n\\nData types:\\n%s' % (null_values, duplicate_rows, data_types))\n",
    "\n",
    "analyse(data)"
   ],
   "metadata": {
    "collapsed": false,
    "ExecuteTime": {
     "end_time": "2023-12-21T21:25:47.192737700Z",
     "start_time": "2023-12-21T21:25:47.185717900Z"
    }
   },
   "id": "80f82f1e266cbeaf"
  },
  {
   "cell_type": "code",
   "execution_count": 246,
   "outputs": [
    {
     "data": {
      "text/plain": "           date       open_SAR  open_USD       high_SAR  high_USD  \\\n0    2021-01-30  128437.248512  34246.28  131012.723200  34933.00   \n1    2021-01-29  125144.022272  33368.18  144510.037760  38531.90   \n2    2021-01-28  113870.357376  30362.19  126703.438592  33783.98   \n3    2021-01-27  121753.023104  32464.01  122102.860416  32557.29   \n4    2021-01-26  120966.114176  32254.19  123470.218752  32921.88   \n...         ...            ...       ...            ...       ...   \n1007 2018-05-11   33761.888384   9002.21   33816.606720   9016.80   \n1008 2018-05-10   34916.224000   9310.00   35235.458048   9395.12   \n1009 2018-05-09   34421.171200   9178.00   35216.256000   9390.00   \n1010 2018-05-08   35122.496000   9365.00   35537.665280   9475.70   \n1011 2018-05-07   36232.689408   9661.02   36340.138368   9689.67   \n\n            low_SAR   low_USD      close_SAR  close_USD    volume  \n0     123106.880000  32825.00  128333.212416   34218.54   43072.0  \n1     119695.516160  31915.40  128459.450880   34252.20  231827.0  \n2     111919.811840  29842.10  125131.570944   33364.86   92621.0  \n3     109668.146688  29241.72  113885.208960   30366.15   95911.0  \n4     115652.472448  30837.37  121767.124608   32467.77   84972.0  \n...             ...       ...            ...        ...       ...  \n1007   31282.086400   8341.00   31503.360000    8400.00   48227.0  \n1008   33641.088000   8970.00   33761.850880    9002.20   25055.0  \n1009   33622.336000   8965.00   34916.224000    9310.00   25673.0  \n1010   33980.649216   9060.54   34457.025024    9187.56   25533.0  \n1011   34432.422400   9181.00   35122.496000    9365.00   33787.0  \n\n[1001 rows x 10 columns]",
      "text/html": "<div>\n<style scoped>\n    .dataframe tbody tr th:only-of-type {\n        vertical-align: middle;\n    }\n\n    .dataframe tbody tr th {\n        vertical-align: top;\n    }\n\n    .dataframe thead th {\n        text-align: right;\n    }\n</style>\n<table border=\"1\" class=\"dataframe\">\n  <thead>\n    <tr style=\"text-align: right;\">\n      <th></th>\n      <th>date</th>\n      <th>open_SAR</th>\n      <th>open_USD</th>\n      <th>high_SAR</th>\n      <th>high_USD</th>\n      <th>low_SAR</th>\n      <th>low_USD</th>\n      <th>close_SAR</th>\n      <th>close_USD</th>\n      <th>volume</th>\n    </tr>\n  </thead>\n  <tbody>\n    <tr>\n      <th>0</th>\n      <td>2021-01-30</td>\n      <td>128437.248512</td>\n      <td>34246.28</td>\n      <td>131012.723200</td>\n      <td>34933.00</td>\n      <td>123106.880000</td>\n      <td>32825.00</td>\n      <td>128333.212416</td>\n      <td>34218.54</td>\n      <td>43072.0</td>\n    </tr>\n    <tr>\n      <th>1</th>\n      <td>2021-01-29</td>\n      <td>125144.022272</td>\n      <td>33368.18</td>\n      <td>144510.037760</td>\n      <td>38531.90</td>\n      <td>119695.516160</td>\n      <td>31915.40</td>\n      <td>128459.450880</td>\n      <td>34252.20</td>\n      <td>231827.0</td>\n    </tr>\n    <tr>\n      <th>2</th>\n      <td>2021-01-28</td>\n      <td>113870.357376</td>\n      <td>30362.19</td>\n      <td>126703.438592</td>\n      <td>33783.98</td>\n      <td>111919.811840</td>\n      <td>29842.10</td>\n      <td>125131.570944</td>\n      <td>33364.86</td>\n      <td>92621.0</td>\n    </tr>\n    <tr>\n      <th>3</th>\n      <td>2021-01-27</td>\n      <td>121753.023104</td>\n      <td>32464.01</td>\n      <td>122102.860416</td>\n      <td>32557.29</td>\n      <td>109668.146688</td>\n      <td>29241.72</td>\n      <td>113885.208960</td>\n      <td>30366.15</td>\n      <td>95911.0</td>\n    </tr>\n    <tr>\n      <th>4</th>\n      <td>2021-01-26</td>\n      <td>120966.114176</td>\n      <td>32254.19</td>\n      <td>123470.218752</td>\n      <td>32921.88</td>\n      <td>115652.472448</td>\n      <td>30837.37</td>\n      <td>121767.124608</td>\n      <td>32467.77</td>\n      <td>84972.0</td>\n    </tr>\n    <tr>\n      <th>...</th>\n      <td>...</td>\n      <td>...</td>\n      <td>...</td>\n      <td>...</td>\n      <td>...</td>\n      <td>...</td>\n      <td>...</td>\n      <td>...</td>\n      <td>...</td>\n      <td>...</td>\n    </tr>\n    <tr>\n      <th>1007</th>\n      <td>2018-05-11</td>\n      <td>33761.888384</td>\n      <td>9002.21</td>\n      <td>33816.606720</td>\n      <td>9016.80</td>\n      <td>31282.086400</td>\n      <td>8341.00</td>\n      <td>31503.360000</td>\n      <td>8400.00</td>\n      <td>48227.0</td>\n    </tr>\n    <tr>\n      <th>1008</th>\n      <td>2018-05-10</td>\n      <td>34916.224000</td>\n      <td>9310.00</td>\n      <td>35235.458048</td>\n      <td>9395.12</td>\n      <td>33641.088000</td>\n      <td>8970.00</td>\n      <td>33761.850880</td>\n      <td>9002.20</td>\n      <td>25055.0</td>\n    </tr>\n    <tr>\n      <th>1009</th>\n      <td>2018-05-09</td>\n      <td>34421.171200</td>\n      <td>9178.00</td>\n      <td>35216.256000</td>\n      <td>9390.00</td>\n      <td>33622.336000</td>\n      <td>8965.00</td>\n      <td>34916.224000</td>\n      <td>9310.00</td>\n      <td>25673.0</td>\n    </tr>\n    <tr>\n      <th>1010</th>\n      <td>2018-05-08</td>\n      <td>35122.496000</td>\n      <td>9365.00</td>\n      <td>35537.665280</td>\n      <td>9475.70</td>\n      <td>33980.649216</td>\n      <td>9060.54</td>\n      <td>34457.025024</td>\n      <td>9187.56</td>\n      <td>25533.0</td>\n    </tr>\n    <tr>\n      <th>1011</th>\n      <td>2018-05-07</td>\n      <td>36232.689408</td>\n      <td>9661.02</td>\n      <td>36340.138368</td>\n      <td>9689.67</td>\n      <td>34432.422400</td>\n      <td>9181.00</td>\n      <td>35122.496000</td>\n      <td>9365.00</td>\n      <td>33787.0</td>\n    </tr>\n  </tbody>\n</table>\n<p>1001 rows × 10 columns</p>\n</div>"
     },
     "execution_count": 246,
     "metadata": {},
     "output_type": "execute_result"
    }
   ],
   "source": [
    "numeric_cols = ['open_SAR', 'open_USD', 'high_SAR', 'high_USD', 'low_SAR', 'low_USD', 'close_SAR', 'close_USD', 'volume']\n",
    "date_cols = ['date']\n",
    "\n",
    "# Converting the data types to valid ones\n",
    "data[date_cols] = data[date_cols].apply(pd.to_datetime, errors='coerce')\n",
    "data[numeric_cols] = data[numeric_cols].apply(pd.to_numeric, errors='coerce')\n",
    "\n",
    "# Dropping the duplicates\n",
    "data = data.drop_duplicates()\n",
    "#filling the missing values with mean\n",
    "data = data.fillna(data.mean())\n",
    "\n",
    "data"
   ],
   "metadata": {
    "collapsed": false,
    "ExecuteTime": {
     "end_time": "2023-12-21T21:25:47.283774300Z",
     "start_time": "2023-12-21T21:25:47.193737400Z"
    }
   },
   "id": "e0c55db1c2cb2477"
  },
  {
   "cell_type": "code",
   "execution_count": 247,
   "outputs": [
    {
     "name": "stdout",
     "output_type": "stream",
     "text": [
      "Null values:\n",
      "date         0\n",
      "open_SAR     0\n",
      "open_USD     0\n",
      "high_SAR     0\n",
      "high_USD     0\n",
      "low_SAR      0\n",
      "low_USD      0\n",
      "close_SAR    0\n",
      "close_USD    0\n",
      "volume       0\n",
      "dtype: int64\n",
      "\n",
      "Duplicate rows: 0\n",
      "\n",
      "Data types:\n",
      "date         datetime64[ns]\n",
      "open_SAR            float64\n",
      "open_USD            float64\n",
      "high_SAR            float64\n",
      "high_USD            float64\n",
      "low_SAR             float64\n",
      "low_USD             float64\n",
      "close_SAR           float64\n",
      "close_USD           float64\n",
      "volume              float64\n",
      "dtype: object\n"
     ]
    }
   ],
   "source": [
    "# Analyse the data after cleaning\n",
    "analyse(data)"
   ],
   "metadata": {
    "collapsed": false,
    "ExecuteTime": {
     "end_time": "2023-12-21T21:25:47.292788500Z",
     "start_time": "2023-12-21T21:25:47.210377900Z"
    }
   },
   "id": "93d3c72e499893f6"
  },
  {
   "cell_type": "code",
   "execution_count": 248,
   "outputs": [
    {
     "name": "stdout",
     "output_type": "stream",
     "text": [
      "Column open_SAR\n",
      "Number of anomalies: 78\n",
      "Number of anomalies after fixing: 0\n",
      "\n",
      "Column open_USD\n",
      "Number of anomalies: 79\n",
      "Number of anomalies after fixing: 0\n",
      "\n",
      "Column high_SAR\n",
      "Number of anomalies: 81\n",
      "Number of anomalies after fixing: 0\n",
      "\n",
      "Column high_USD\n",
      "Number of anomalies: 79\n",
      "Number of anomalies after fixing: 0\n",
      "\n",
      "Column low_SAR\n",
      "Number of anomalies: 79\n",
      "Number of anomalies after fixing: 0\n",
      "\n",
      "Column low_USD\n",
      "Number of anomalies: 82\n",
      "Number of anomalies after fixing: 0\n",
      "\n",
      "Column close_SAR\n",
      "Number of anomalies: 79\n",
      "Number of anomalies after fixing: 0\n",
      "\n",
      "Column close_USD\n",
      "Number of anomalies: 81\n",
      "Number of anomalies after fixing: 0\n",
      "\n",
      "Column volume\n",
      "Number of anomalies: 57\n",
      "Number of anomalies after fixing: 0\n"
     ]
    }
   ],
   "source": [
    "for col in numeric_cols:\n",
    "    q_1 = data[col].quantile(0.25)\n",
    "    q_3 = data[col].quantile(0.75)\n",
    "    iqr = q_3 - q_1\n",
    "    low = q_1 - 1.5 * iqr\n",
    "    high = q_3 + 1.5 * iqr\n",
    "    \n",
    "    print('Column %s' % col)\n",
    "    anomalies = data[(data[col] >= low) & (data[col] <= high)]\n",
    "    print('Number of anomalies: %i' % (data.shape[0] - anomalies.shape[0]))\n",
    "    \n",
    "    # Fixing the anomalies\n",
    "    data.loc[data[col] < low, col] = data[col].mean()\n",
    "    data.loc[data[col] > high, col] = data[col].mean()\n",
    "    \n",
    "    anomalies = data[(data[col] >= low) & (data[col] <= high)]\n",
    "    print('Number of anomalies after fixing: %i\\n' % (data.shape[0] - anomalies.shape[0]))"
   ],
   "metadata": {
    "collapsed": false,
    "ExecuteTime": {
     "end_time": "2023-12-21T21:25:47.313818100Z",
     "start_time": "2023-12-21T21:25:47.216866500Z"
    }
   },
   "id": "b95966f5b5e83b25"
  }
 ],
 "metadata": {
  "kernelspec": {
   "display_name": "Python 3",
   "language": "python",
   "name": "python3"
  },
  "language_info": {
   "codemirror_mode": {
    "name": "ipython",
    "version": 2
   },
   "file_extension": ".py",
   "mimetype": "text/x-python",
   "name": "python",
   "nbconvert_exporter": "python",
   "pygments_lexer": "ipython2",
   "version": "2.7.6"
  }
 },
 "nbformat": 4,
 "nbformat_minor": 5
}
