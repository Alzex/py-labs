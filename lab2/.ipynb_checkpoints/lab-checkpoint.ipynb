{
 "cells": [
  {
   "cell_type": "code",
   "execution_count": 158,
   "id": "initial_id",
   "metadata": {
    "collapsed": true,
    "ExecuteTime": {
     "end_time": "2023-10-25T19:14:58.699736200Z",
     "start_time": "2023-10-25T19:14:58.681196100Z"
    }
   },
   "outputs": [
    {
     "data": {
      "text/plain": "[{'': '0',\n  'case': '1',\n  'site': '1',\n  'Pop': 'Vic',\n  'sex': 'm',\n  'age': '8.0',\n  'hdlngth': '94.1',\n  'skullw': '60.4',\n  'totlngth': '89.0',\n  'taill': '36.0',\n  'footlgth': '74.5',\n  'earconch': '54.5',\n  'eye': '15.2',\n  'chest': '28.0',\n  'belly': '36.0'},\n {'': '1',\n  'case': '2',\n  'site': '1',\n  'Pop': 'Vic',\n  'sex': 'f',\n  'age': '6.0',\n  'hdlngth': '92.5',\n  'skullw': '57.6',\n  'totlngth': '91.5',\n  'taill': '36.5',\n  'footlgth': '72.5',\n  'earconch': '51.2',\n  'eye': '16.0',\n  'chest': '28.5',\n  'belly': '33.0'},\n {'': '2',\n  'case': '3',\n  'site': '1',\n  'Pop': 'Vic',\n  'sex': 'f',\n  'age': '6.0',\n  'hdlngth': '94.0',\n  'skullw': '60.0',\n  'totlngth': '95.5',\n  'taill': '39.0',\n  'footlgth': '75.4',\n  'earconch': '51.9',\n  'eye': '15.5',\n  'chest': '30.0',\n  'belly': '34.0'},\n {'': '3',\n  'case': '4',\n  'site': '1',\n  'Pop': 'Vic',\n  'sex': 'f',\n  'age': '6.0',\n  'hdlngth': '93.2',\n  'skullw': '57.1',\n  'totlngth': '92.0',\n  'taill': '38.0',\n  'footlgth': '76.1',\n  'earconch': '52.2',\n  'eye': '15.2',\n  'chest': '28.0',\n  'belly': '34.0'},\n {'': '4',\n  'case': '5',\n  'site': '1',\n  'Pop': 'Vic',\n  'sex': 'f',\n  'age': '2.0',\n  'hdlngth': '91.5',\n  'skullw': '56.3',\n  'totlngth': '85.5',\n  'taill': '36.0',\n  'footlgth': '71.0',\n  'earconch': '53.2',\n  'eye': '15.1',\n  'chest': '28.5',\n  'belly': '33.0'},\n {'': '5',\n  'case': '6',\n  'site': '1',\n  'Pop': 'Vic',\n  'sex': 'f',\n  'age': '1.0',\n  'hdlngth': '93.1',\n  'skullw': '54.8',\n  'totlngth': '90.5',\n  'taill': '35.5',\n  'footlgth': '73.2',\n  'earconch': '53.6',\n  'eye': '14.2',\n  'chest': '30.0',\n  'belly': '32.0'},\n {'': '6',\n  'case': '7',\n  'site': '1',\n  'Pop': 'Vic',\n  'sex': 'm',\n  'age': '2.0',\n  'hdlngth': '95.3',\n  'skullw': '58.2',\n  'totlngth': '89.5',\n  'taill': '36.0',\n  'footlgth': '71.5',\n  'earconch': '52.0',\n  'eye': '14.2',\n  'chest': '30.0',\n  'belly': '34.5'},\n {'': '7',\n  'case': '8',\n  'site': '1',\n  'Pop': 'Vic',\n  'sex': 'f',\n  'age': '6.0',\n  'hdlngth': '94.8',\n  'skullw': '57.6',\n  'totlngth': '91.0',\n  'taill': '37.0',\n  'footlgth': '72.7',\n  'earconch': '53.9',\n  'eye': '14.5',\n  'chest': '29.0',\n  'belly': '34.0'},\n {'': '8',\n  'case': '9',\n  'site': '1',\n  'Pop': 'Vic',\n  'sex': 'f',\n  'age': '9.0',\n  'hdlngth': '93.4',\n  'skullw': '56.3',\n  'totlngth': '91.5',\n  'taill': '37.0',\n  'footlgth': '72.4',\n  'earconch': '52.9',\n  'eye': '15.5',\n  'chest': '28.0',\n  'belly': '33.0'},\n {'': '9',\n  'case': '10',\n  'site': '1',\n  'Pop': 'Vic',\n  'sex': 'f',\n  'age': '6.0',\n  'hdlngth': '91.8',\n  'skullw': '58.0',\n  'totlngth': '89.5',\n  'taill': '37.5',\n  'footlgth': '70.9',\n  'earconch': '53.4',\n  'eye': '14.4',\n  'chest': '27.5',\n  'belly': '32.0'},\n {'': '10',\n  'case': '11',\n  'site': '1',\n  'Pop': 'Vic',\n  'sex': 'f',\n  'age': '9.0',\n  'hdlngth': '93.3',\n  'skullw': '57.2',\n  'totlngth': '89.5',\n  'taill': '39.0',\n  'footlgth': '77.2',\n  'earconch': '51.3',\n  'eye': '14.9',\n  'chest': '31.0',\n  'belly': '34.0'},\n {'': '11',\n  'case': '12',\n  'site': '1',\n  'Pop': 'Vic',\n  'sex': 'f',\n  'age': '5.0',\n  'hdlngth': '94.9',\n  'skullw': '55.6',\n  'totlngth': '92.0',\n  'taill': '35.5',\n  'footlgth': '71.7',\n  'earconch': '51.0',\n  'eye': '15.3',\n  'chest': '28.0',\n  'belly': '33.0'},\n {'': '12',\n  'case': '13',\n  'site': '1',\n  'Pop': 'Vic',\n  'sex': 'm',\n  'age': '5.0',\n  'hdlngth': '95.1',\n  'skullw': '59.9',\n  'totlngth': '89.5',\n  'taill': '36.0',\n  'footlgth': '71.0',\n  'earconch': '49.8',\n  'eye': '15.8',\n  'chest': '27.0',\n  'belly': '32.0'},\n {'': '13',\n  'case': '14',\n  'site': '1',\n  'Pop': 'Vic',\n  'sex': 'm',\n  'age': '3.0',\n  'hdlngth': '95.4',\n  'skullw': '57.6',\n  'totlngth': '91.5',\n  'taill': '36.0',\n  'footlgth': '74.3',\n  'earconch': '53.7',\n  'eye': '15.1',\n  'chest': '28.0',\n  'belly': '31.5'},\n {'': '14',\n  'case': '15',\n  'site': '1',\n  'Pop': 'Vic',\n  'sex': 'm',\n  'age': '5.0',\n  'hdlngth': '92.9',\n  'skullw': '57.6',\n  'totlngth': '85.5',\n  'taill': '34.0',\n  'footlgth': '69.7',\n  'earconch': '51.8',\n  'eye': '15.7',\n  'chest': '28.0',\n  'belly': '35.0'},\n {'': '15',\n  'case': '16',\n  'site': '1',\n  'Pop': 'Vic',\n  'sex': 'm',\n  'age': '4.0',\n  'hdlngth': '91.6',\n  'skullw': '56.0',\n  'totlngth': '86.0',\n  'taill': '34.5',\n  'footlgth': '73.0',\n  'earconch': '51.4',\n  'eye': '14.4',\n  'chest': '28.0',\n  'belly': '32.0'},\n {'': '16',\n  'case': '17',\n  'site': '1',\n  'Pop': 'Vic',\n  'sex': 'f',\n  'age': '1.0',\n  'hdlngth': '94.7',\n  'skullw': '67.7',\n  'totlngth': '89.5',\n  'taill': '36.5',\n  'footlgth': '73.2',\n  'earconch': '53.2',\n  'eye': '14.7',\n  'chest': '29.0',\n  'belly': '31.0'},\n {'': '17',\n  'case': '18',\n  'site': '1',\n  'Pop': 'Vic',\n  'sex': 'm',\n  'age': '2.0',\n  'hdlngth': '93.5',\n  'skullw': '55.7',\n  'totlngth': '90.0',\n  'taill': '36.0',\n  'footlgth': '73.7',\n  'earconch': '55.4',\n  'eye': '15.3',\n  'chest': '28.0',\n  'belly': '32.0'},\n {'': '18',\n  'case': '19',\n  'site': '1',\n  'Pop': 'Vic',\n  'sex': 'f',\n  'age': '5.0',\n  'hdlngth': '94.4',\n  'skullw': '55.4',\n  'totlngth': '90.5',\n  'taill': '35.0',\n  'footlgth': '73.4',\n  'earconch': '53.9',\n  'eye': '15.2',\n  'chest': '28.0',\n  'belly': '32.0'},\n {'': '19',\n  'case': '20',\n  'site': '1',\n  'Pop': 'Vic',\n  'sex': 'f',\n  'age': '4.0',\n  'hdlngth': '94.8',\n  'skullw': '56.3',\n  'totlngth': '89.0',\n  'taill': '38.0',\n  'footlgth': '73.8',\n  'earconch': '52.4',\n  'eye': '15.5',\n  'chest': '27.0',\n  'belly': '36.0'},\n {'': '20',\n  'case': '21',\n  'site': '1',\n  'Pop': 'Vic',\n  'sex': 'f',\n  'age': '3.0',\n  'hdlngth': '95.9',\n  'skullw': '58.1',\n  'totlngth': '96.5',\n  'taill': '39.5',\n  'footlgth': '77.9',\n  'earconch': '52.9',\n  'eye': '14.2',\n  'chest': '30.0',\n  'belly': '40.0'},\n {'': '21',\n  'case': '22',\n  'site': '1',\n  'Pop': 'Vic',\n  'sex': 'm',\n  'age': '3.0',\n  'hdlngth': '96.3',\n  'skullw': '58.5',\n  'totlngth': '91.0',\n  'taill': '39.5',\n  'footlgth': '73.5',\n  'earconch': '52.1',\n  'eye': '16.2',\n  'chest': '28.0',\n  'belly': '36.0'},\n {'': '22',\n  'case': '23',\n  'site': '1',\n  'Pop': 'Vic',\n  'sex': 'f',\n  'age': '4.0',\n  'hdlngth': '92.5',\n  'skullw': '56.1',\n  'totlngth': '89.0',\n  'taill': '36.0',\n  'footlgth': '72.8',\n  'earconch': '53.3',\n  'eye': '15.4',\n  'chest': '28.0',\n  'belly': '35.0'},\n {'': '23',\n  'case': '24',\n  'site': '1',\n  'Pop': 'Vic',\n  'sex': 'm',\n  'age': '2.0',\n  'hdlngth': '94.4',\n  'skullw': '54.9',\n  'totlngth': '84.0',\n  'taill': '34.0',\n  'footlgth': '75.0',\n  'earconch': '53.5',\n  'eye': '16.2',\n  'chest': '27.0',\n  'belly': '32.0'},\n {'': '24',\n  'case': '25',\n  'site': '1',\n  'Pop': 'Vic',\n  'sex': 'm',\n  'age': '3.0',\n  'hdlngth': '95.8',\n  'skullw': '58.5',\n  'totlngth': '91.5',\n  'taill': '35.5',\n  'footlgth': '72.3',\n  'earconch': '51.6',\n  'eye': '14.9',\n  'chest': '31.0',\n  'belly': '35.0'},\n {'': '25',\n  'case': '26',\n  'site': '1',\n  'Pop': 'Vic',\n  'sex': 'm',\n  'age': '7.0',\n  'hdlngth': '96.0',\n  'skullw': '59.0',\n  'totlngth': '90.0',\n  'taill': '36.0',\n  'footlgth': '73.6',\n  'earconch': '56.2',\n  'eye': '15.0',\n  'chest': '29.0',\n  'belly': '38.0'},\n {'': '26',\n  'case': '27',\n  'site': '1',\n  'Pop': 'Vic',\n  'sex': 'f',\n  'age': '2.0',\n  'hdlngth': '90.5',\n  'skullw': '54.5',\n  'totlngth': '85.0',\n  'taill': '35.0',\n  'footlgth': '70.3',\n  'earconch': '50.8',\n  'eye': '14.2',\n  'chest': '23.0',\n  'belly': '28.0'},\n {'': '27',\n  'case': '28',\n  'site': '1',\n  'Pop': 'Vic',\n  'sex': 'm',\n  'age': '4.0',\n  'hdlngth': '93.8',\n  'skullw': '56.8',\n  'totlngth': '87.0',\n  'taill': '34.5',\n  'footlgth': '73.2',\n  'earconch': '53.0',\n  'eye': '15.3',\n  'chest': '27.0',\n  'belly': '30.0'},\n {'': '28',\n  'case': '29',\n  'site': '1',\n  'Pop': 'Vic',\n  'sex': 'f',\n  'age': '3.0',\n  'hdlngth': '92.8',\n  'skullw': '56.0',\n  'totlngth': '88.0',\n  'taill': '35.0',\n  'footlgth': '74.9',\n  'earconch': '51.8',\n  'eye': '14.0',\n  'chest': '24.0',\n  'belly': '32.0'},\n {'': '29',\n  'case': '30',\n  'site': '1',\n  'Pop': 'Vic',\n  'sex': 'f',\n  'age': '2.0',\n  'hdlngth': '92.1',\n  'skullw': '54.4',\n  'totlngth': '84.0',\n  'taill': '33.5',\n  'footlgth': '70.6',\n  'earconch': '50.8',\n  'eye': '14.5',\n  'chest': '24.5',\n  'belly': '33.0'},\n {'': '30',\n  'case': '31',\n  'site': '1',\n  'Pop': 'Vic',\n  'sex': 'm',\n  'age': '3.0',\n  'hdlngth': '92.8',\n  'skullw': '54.1',\n  'totlngth': '93.0',\n  'taill': '37.0',\n  'footlgth': '68.0',\n  'earconch': '52.5',\n  'eye': '14.5',\n  'chest': '27.0',\n  'belly': '31.0'},\n {'': '31',\n  'case': '32',\n  'site': '1',\n  'Pop': 'Vic',\n  'sex': 'f',\n  'age': '4.0',\n  'hdlngth': '94.3',\n  'skullw': '56.7',\n  'totlngth': '94.0',\n  'taill': '39.0',\n  'footlgth': '74.8',\n  'earconch': '52.0',\n  'eye': '14.9',\n  'chest': '28.0',\n  'belly': '34.0'},\n {'': '32',\n  'case': '33',\n  'site': '1',\n  'Pop': 'Vic',\n  'sex': 'm',\n  'age': '3.0',\n  'hdlngth': '91.4',\n  'skullw': '54.6',\n  'totlngth': '89.0',\n  'taill': '37.0',\n  'footlgth': '70.8',\n  'earconch': '51.8',\n  'eye': '14.8',\n  'chest': '24.0',\n  'belly': '30.0'},\n {'': '33',\n  'case': '34',\n  'site': '2',\n  'Pop': 'Vic',\n  'sex': 'm',\n  'age': '2.0',\n  'hdlngth': '90.6',\n  'skullw': '55.7',\n  'totlngth': '85.5',\n  'taill': '36.5',\n  'footlgth': '73.1',\n  'earconch': '53.1',\n  'eye': '14.4',\n  'chest': '26.0',\n  'belly': '28.5'},\n {'': '34',\n  'case': '35',\n  'site': '2',\n  'Pop': 'Vic',\n  'sex': 'm',\n  'age': '4.0',\n  'hdlngth': '94.4',\n  'skullw': '57.9',\n  'totlngth': '85.0',\n  'taill': '35.5',\n  'footlgth': '71.2',\n  'earconch': '55.5',\n  'eye': '16.4',\n  'chest': '28.0',\n  'belly': '35.5'},\n {'': '35',\n  'case': '36',\n  'site': '2',\n  'Pop': 'Vic',\n  'sex': 'm',\n  'age': '7.0',\n  'hdlngth': '93.3',\n  'skullw': '59.3',\n  'totlngth': '88.0',\n  'taill': '35.0',\n  'footlgth': '74.3',\n  'earconch': '52.0',\n  'eye': '14.9',\n  'chest': '25.5',\n  'belly': '36.0'},\n {'': '36',\n  'case': '37',\n  'site': '2',\n  'Pop': 'Vic',\n  'sex': 'f',\n  'age': '2.0',\n  'hdlngth': '89.3',\n  'skullw': '54.8',\n  'totlngth': '82.5',\n  'taill': '35.0',\n  'footlgth': '71.2',\n  'earconch': '52.0',\n  'eye': '13.6',\n  'chest': '28.0',\n  'belly': '31.5'},\n {'': '37',\n  'case': '38',\n  'site': '2',\n  'Pop': 'Vic',\n  'sex': 'm',\n  'age': '7.0',\n  'hdlngth': '92.4',\n  'skullw': '56.0',\n  'totlngth': '80.5',\n  'taill': '35.5',\n  'footlgth': '68.4',\n  'earconch': '49.5',\n  'eye': '15.9',\n  'chest': '27.0',\n  'belly': '30.0'},\n {'': '38',\n  'case': '39',\n  'site': '2',\n  'Pop': 'Vic',\n  'sex': 'f',\n  'age': '1.0',\n  'hdlngth': '84.7',\n  'skullw': '51.5',\n  'totlngth': '75.0',\n  'taill': '34.0',\n  'footlgth': '68.7',\n  'earconch': '53.4',\n  'eye': '13.0',\n  'chest': '25.0',\n  'belly': '25.0'},\n {'': '39',\n  'case': '40',\n  'site': '2',\n  'Pop': 'Vic',\n  'sex': 'f',\n  'age': '3.0',\n  'hdlngth': '91.0',\n  'skullw': '55.0',\n  'totlngth': '84.5',\n  'taill': '36.0',\n  'footlgth': '72.8',\n  'earconch': '51.4',\n  'eye': '13.6',\n  'chest': '27.0',\n  'belly': '30.0'},\n {'': '41',\n  'case': '42',\n  'site': '2',\n  'Pop': 'Vic',\n  'sex': 'm',\n  'age': '3.0',\n  'hdlngth': '85.3',\n  'skullw': '54.1',\n  'totlngth': '77.0',\n  'taill': '32.0',\n  'footlgth': '62.7',\n  'earconch': '51.2',\n  'eye': '13.8',\n  'chest': '25.5',\n  'belly': '33.0'},\n {'': '42',\n  'case': '43',\n  'site': '2',\n  'Pop': 'Vic',\n  'sex': 'f',\n  'age': '2.0',\n  'hdlngth': '90.0',\n  'skullw': '55.5',\n  'totlngth': '81.0',\n  'taill': '32.0',\n  'footlgth': '72.0',\n  'earconch': '49.4',\n  'eye': '13.4',\n  'chest': '29.0',\n  'belly': '31.0'},\n {'': '44',\n  'case': '45',\n  'site': '2',\n  'Pop': 'Vic',\n  'sex': 'm',\n  'age': '3.0',\n  'hdlngth': '90.7',\n  'skullw': '55.9',\n  'totlngth': '81.0',\n  'taill': '34.0',\n  'footlgth': '71.5',\n  'earconch': '54.0',\n  'eye': '14.6',\n  'chest': '27.0',\n  'belly': '31.5'},\n {'': '46',\n  'case': '47',\n  'site': '3',\n  'Pop': 'other',\n  'sex': 'm',\n  'age': '2.0',\n  'hdlngth': '90.1',\n  'skullw': '54.8',\n  'totlngth': '89.0',\n  'taill': '37.5',\n  'footlgth': '66.0',\n  'earconch': '45.5',\n  'eye': '15.0',\n  'chest': '25.0',\n  'belly': '33.0'},\n {'': '47',\n  'case': '48',\n  'site': '3',\n  'Pop': 'other',\n  'sex': 'm',\n  'age': '5.0',\n  'hdlngth': '98.6',\n  'skullw': '63.2',\n  'totlngth': '85.0',\n  'taill': '34.0',\n  'footlgth': '66.9',\n  'earconch': '44.9',\n  'eye': '17.0',\n  'chest': '28.0',\n  'belly': '35.0'},\n {'': '48',\n  'case': '49',\n  'site': '3',\n  'Pop': 'other',\n  'sex': 'm',\n  'age': '4.0',\n  'hdlngth': '95.4',\n  'skullw': '59.2',\n  'totlngth': '85.0',\n  'taill': '37.0',\n  'footlgth': '69.0',\n  'earconch': '45.0',\n  'eye': '15.9',\n  'chest': '29.5',\n  'belly': '35.5'},\n {'': '49',\n  'case': '50',\n  'site': '3',\n  'Pop': 'other',\n  'sex': 'f',\n  'age': '5.0',\n  'hdlngth': '91.6',\n  'skullw': '56.4',\n  'totlngth': '88.0',\n  'taill': '38.0',\n  'footlgth': '65.0',\n  'earconch': '47.2',\n  'eye': '14.9',\n  'chest': '28.0',\n  'belly': '36.0'},\n {'': '50',\n  'case': '51',\n  'site': '3',\n  'Pop': 'other',\n  'sex': 'f',\n  'age': '5.0',\n  'hdlngth': '95.6',\n  'skullw': '59.6',\n  'totlngth': '85.0',\n  'taill': '36.0',\n  'footlgth': '64.0',\n  'earconch': '43.9',\n  'eye': '17.4',\n  'chest': '28.0',\n  'belly': '38.5'},\n {'': '51',\n  'case': '52',\n  'site': '3',\n  'Pop': 'other',\n  'sex': 'm',\n  'age': '6.0',\n  'hdlngth': '97.6',\n  'skullw': '61.0',\n  'totlngth': '93.5',\n  'taill': '40.0',\n  'footlgth': '67.9',\n  'earconch': '44.3',\n  'eye': '15.8',\n  'chest': '28.5',\n  'belly': '32.5'},\n {'': '52',\n  'case': '53',\n  'site': '3',\n  'Pop': 'other',\n  'sex': 'f',\n  'age': '3.0',\n  'hdlngth': '93.1',\n  'skullw': '58.1',\n  'totlngth': '91.0',\n  'taill': '38.0',\n  'footlgth': '67.4',\n  'earconch': '46.0',\n  'eye': '16.5',\n  'chest': '26.0',\n  'belly': '33.5'},\n {'': '53',\n  'case': '54',\n  'site': '4',\n  'Pop': 'other',\n  'sex': 'm',\n  'age': '7.0',\n  'hdlngth': '96.9',\n  'skullw': '63.0',\n  'totlngth': '91.5',\n  'taill': '43.0',\n  'footlgth': '71.3',\n  'earconch': '46.0',\n  'eye': '17.5',\n  'chest': '30.0',\n  'belly': '36.5'},\n {'': '54',\n  'case': '55',\n  'site': '4',\n  'Pop': 'other',\n  'sex': 'm',\n  'age': '2.0',\n  'hdlngth': '103.1',\n  'skullw': '63.2',\n  'totlngth': '92.5',\n  'taill': '38.0',\n  'footlgth': '72.5',\n  'earconch': '44.9',\n  'eye': '16.4',\n  'chest': '30.5',\n  'belly': '36.0'},\n {'': '55',\n  'case': '56',\n  'site': '4',\n  'Pop': 'other',\n  'sex': 'm',\n  'age': '3.0',\n  'hdlngth': '99.9',\n  'skullw': '61.5',\n  'totlngth': '93.7',\n  'taill': '38.0',\n  'footlgth': '68.7',\n  'earconch': '46.8',\n  'eye': '16.4',\n  'chest': '27.5',\n  'belly': '31.5'},\n {'': '56',\n  'case': '57',\n  'site': '4',\n  'Pop': 'other',\n  'sex': 'f',\n  'age': '4.0',\n  'hdlngth': '95.1',\n  'skullw': '59.4',\n  'totlngth': '93.0',\n  'taill': '41.0',\n  'footlgth': '67.2',\n  'earconch': '45.3',\n  'eye': '14.5',\n  'chest': '31.0',\n  'belly': '39.0'},\n {'': '57',\n  'case': '58',\n  'site': '4',\n  'Pop': 'other',\n  'sex': 'm',\n  'age': '3.0',\n  'hdlngth': '94.5',\n  'skullw': '64.2',\n  'totlngth': '91.0',\n  'taill': '39.0',\n  'footlgth': '66.5',\n  'earconch': '46.4',\n  'eye': '14.4',\n  'chest': '30.5',\n  'belly': '33.0'},\n {'': '58',\n  'case': '59',\n  'site': '4',\n  'Pop': 'other',\n  'sex': 'm',\n  'age': '2.0',\n  'hdlngth': '102.5',\n  'skullw': '62.8',\n  'totlngth': '96.0',\n  'taill': '40.0',\n  'footlgth': '73.2',\n  'earconch': '44.5',\n  'eye': '14.7',\n  'chest': '32.0',\n  'belly': '36.0'},\n {'': '59',\n  'case': '60',\n  'site': '4',\n  'Pop': 'other',\n  'sex': 'f',\n  'age': '2.0',\n  'hdlngth': '91.3',\n  'skullw': '57.7',\n  'totlngth': '88.0',\n  'taill': '39.0',\n  'footlgth': '63.1',\n  'earconch': '47.0',\n  'eye': '14.4',\n  'chest': '26.0',\n  'belly': '30.0'},\n {'': '60',\n  'case': '61',\n  'site': '5',\n  'Pop': 'other',\n  'sex': 'm',\n  'age': '7.0',\n  'hdlngth': '95.7',\n  'skullw': '59.0',\n  'totlngth': '86.0',\n  'taill': '38.0',\n  'footlgth': '63.1',\n  'earconch': '44.9',\n  'eye': '15.0',\n  'chest': '26.5',\n  'belly': '31.0'},\n {'': '61',\n  'case': '62',\n  'site': '5',\n  'Pop': 'other',\n  'sex': 'f',\n  'age': '3.0',\n  'hdlngth': '91.3',\n  'skullw': '58.0',\n  'totlngth': '90.5',\n  'taill': '39.0',\n  'footlgth': '65.5',\n  'earconch': '41.3',\n  'eye': '16.0',\n  'chest': '27.0',\n  'belly': '32.0'},\n {'': '62',\n  'case': '63',\n  'site': '5',\n  'Pop': 'other',\n  'sex': 'f',\n  'age': '6.0',\n  'hdlngth': '92.0',\n  'skullw': '56.4',\n  'totlngth': '88.5',\n  'taill': '38.0',\n  'footlgth': '64.1',\n  'earconch': '46.3',\n  'eye': '15.2',\n  'chest': '25.5',\n  'belly': '28.5'},\n {'': '63',\n  'case': '64',\n  'site': '5',\n  'Pop': 'other',\n  'sex': 'f',\n  'age': '3.0',\n  'hdlngth': '96.9',\n  'skullw': '56.5',\n  'totlngth': '89.5',\n  'taill': '38.5',\n  'footlgth': '63.0',\n  'earconch': '45.1',\n  'eye': '17.1',\n  'chest': '25.5',\n  'belly': '33.0'},\n {'': '64',\n  'case': '65',\n  'site': '5',\n  'Pop': 'other',\n  'sex': 'f',\n  'age': '5.0',\n  'hdlngth': '93.5',\n  'skullw': '57.4',\n  'totlngth': '88.5',\n  'taill': '38.0',\n  'footlgth': '68.2',\n  'earconch': '41.7',\n  'eye': '14.0',\n  'chest': '29.0',\n  'belly': '38.5'},\n {'': '65',\n  'case': '66',\n  'site': '5',\n  'Pop': 'other',\n  'sex': 'f',\n  'age': '3.0',\n  'hdlngth': '90.4',\n  'skullw': '55.8',\n  'totlngth': '86.0',\n  'taill': '36.5',\n  'footlgth': '63.2',\n  'earconch': '44.2',\n  'eye': '15.7',\n  'chest': '26.5',\n  'belly': '34.0'},\n {'': '66',\n  'case': '67',\n  'site': '5',\n  'Pop': 'other',\n  'sex': 'm',\n  'age': '4.0',\n  'hdlngth': '93.3',\n  'skullw': '57.6',\n  'totlngth': '85.0',\n  'taill': '36.5',\n  'footlgth': '64.7',\n  'earconch': '44.1',\n  'eye': '16.5',\n  'chest': '27.5',\n  'belly': '29.5'},\n {'': '67',\n  'case': '68',\n  'site': '5',\n  'Pop': 'other',\n  'sex': 'm',\n  'age': '5.0',\n  'hdlngth': '94.1',\n  'skullw': '56.0',\n  'totlngth': '88.5',\n  'taill': '38.0',\n  'footlgth': '65.9',\n  'earconch': '43.1',\n  'eye': '17.4',\n  'chest': '27.0',\n  'belly': '30.0'},\n {'': '68',\n  'case': '69',\n  'site': '5',\n  'Pop': 'other',\n  'sex': 'm',\n  'age': '5.0',\n  'hdlngth': '98.0',\n  'skullw': '55.6',\n  'totlngth': '88.0',\n  'taill': '37.5',\n  'footlgth': '65.0',\n  'earconch': '45.6',\n  'eye': '15.0',\n  'chest': '28.5',\n  'belly': '34.0'},\n {'': '69',\n  'case': '70',\n  'site': '5',\n  'Pop': 'other',\n  'sex': 'f',\n  'age': '7.0',\n  'hdlngth': '91.9',\n  'skullw': '56.4',\n  'totlngth': '87.0',\n  'taill': '38.0',\n  'footlgth': '65.4',\n  'earconch': '44.1',\n  'eye': '13.0',\n  'chest': '27.0',\n  'belly': '34.0'},\n {'': '70',\n  'case': '71',\n  'site': '5',\n  'Pop': 'other',\n  'sex': 'm',\n  'age': '6.0',\n  'hdlngth': '92.8',\n  'skullw': '57.6',\n  'totlngth': '90.0',\n  'taill': '40.0',\n  'footlgth': '65.7',\n  'earconch': '42.8',\n  'eye': '15.0',\n  'chest': '27.5',\n  'belly': '34.0'},\n {'': '71',\n  'case': '72',\n  'site': '5',\n  'Pop': 'other',\n  'sex': 'm',\n  'age': '1.0',\n  'hdlngth': '85.9',\n  'skullw': '52.4',\n  'totlngth': '80.5',\n  'taill': '35.0',\n  'footlgth': '62.0',\n  'earconch': '42.4',\n  'eye': '14.1',\n  'chest': '25.5',\n  'belly': '30.0'},\n {'': '72',\n  'case': '73',\n  'site': '5',\n  'Pop': 'other',\n  'sex': 'm',\n  'age': '1.0',\n  'hdlngth': '82.5',\n  'skullw': '52.3',\n  'totlngth': '82.0',\n  'taill': '36.5',\n  'footlgth': '65.7',\n  'earconch': '44.7',\n  'eye': '16.0',\n  'chest': '23.5',\n  'belly': '28.0'},\n {'': '73',\n  'case': '74',\n  'site': '6',\n  'Pop': 'other',\n  'sex': 'f',\n  'age': '4.0',\n  'hdlngth': '88.7',\n  'skullw': '52.0',\n  'totlngth': '83.0',\n  'taill': '38.0',\n  'footlgth': '61.5',\n  'earconch': '45.9',\n  'eye': '14.7',\n  'chest': '26.0',\n  'belly': '34.0'},\n {'': '74',\n  'case': '75',\n  'site': '6',\n  'Pop': 'other',\n  'sex': 'm',\n  'age': '6.0',\n  'hdlngth': '93.8',\n  'skullw': '58.1',\n  'totlngth': '89.0',\n  'taill': '38.0',\n  'footlgth': '66.2',\n  'earconch': '45.6',\n  'eye': '16.9',\n  'chest': '26.0',\n  'belly': '33.5'},\n {'': '75',\n  'case': '76',\n  'site': '6',\n  'Pop': 'other',\n  'sex': 'm',\n  'age': '5.0',\n  'hdlngth': '92.4',\n  'skullw': '56.8',\n  'totlngth': '89.0',\n  'taill': '41.0',\n  'footlgth': '64.5',\n  'earconch': '46.4',\n  'eye': '17.8',\n  'chest': '26.0',\n  'belly': '33.0'},\n {'': '76',\n  'case': '77',\n  'site': '6',\n  'Pop': 'other',\n  'sex': 'm',\n  'age': '6.0',\n  'hdlngth': '93.6',\n  'skullw': '56.2',\n  'totlngth': '84.0',\n  'taill': '36.0',\n  'footlgth': '62.8',\n  'earconch': '42.9',\n  'eye': '16.2',\n  'chest': '25.0',\n  'belly': '35.0'},\n {'': '77',\n  'case': '78',\n  'site': '6',\n  'Pop': 'other',\n  'sex': 'm',\n  'age': '1.0',\n  'hdlngth': '86.5',\n  'skullw': '51.0',\n  'totlngth': '81.0',\n  'taill': '36.5',\n  'footlgth': '63.0',\n  'earconch': '44.3',\n  'eye': '13.2',\n  'chest': '23.0',\n  'belly': '28.0'},\n {'': '78',\n  'case': '79',\n  'site': '6',\n  'Pop': 'other',\n  'sex': 'm',\n  'age': '1.0',\n  'hdlngth': '85.8',\n  'skullw': '50.0',\n  'totlngth': '81.0',\n  'taill': '36.5',\n  'footlgth': '62.8',\n  'earconch': '43.0',\n  'eye': '14.8',\n  'chest': '22.0',\n  'belly': '28.5'},\n {'': '79',\n  'case': '80',\n  'site': '6',\n  'Pop': 'other',\n  'sex': 'm',\n  'age': '1.0',\n  'hdlngth': '86.7',\n  'skullw': '52.6',\n  'totlngth': '84.0',\n  'taill': '38.0',\n  'footlgth': '62.3',\n  'earconch': '44.8',\n  'eye': '15.0',\n  'chest': '23.5',\n  'belly': '30.5'},\n {'': '80',\n  'case': '81',\n  'site': '6',\n  'Pop': 'other',\n  'sex': 'm',\n  'age': '3.0',\n  'hdlngth': '90.6',\n  'skullw': '56.0',\n  'totlngth': '85.5',\n  'taill': '38.0',\n  'footlgth': '65.6',\n  'earconch': '41.7',\n  'eye': '17.0',\n  'chest': '27.5',\n  'belly': '35.0'},\n {'': '81',\n  'case': '82',\n  'site': '6',\n  'Pop': 'other',\n  'sex': 'f',\n  'age': '4.0',\n  'hdlngth': '86.0',\n  'skullw': '54.0',\n  'totlngth': '82.0',\n  'taill': '36.5',\n  'footlgth': '60.7',\n  'earconch': '42.9',\n  'eye': '15.4',\n  'chest': '26.0',\n  'belly': '32.0'},\n {'': '82',\n  'case': '83',\n  'site': '6',\n  'Pop': 'other',\n  'sex': 'f',\n  'age': '3.0',\n  'hdlngth': '90.0',\n  'skullw': '53.8',\n  'totlngth': '81.5',\n  'taill': '36.0',\n  'footlgth': '62.0',\n  'earconch': '43.3',\n  'eye': '14.0',\n  'chest': '25.0',\n  'belly': '29.0'},\n {'': '83',\n  'case': '84',\n  'site': '6',\n  'Pop': 'other',\n  'sex': 'm',\n  'age': '3.0',\n  'hdlngth': '88.4',\n  'skullw': '54.6',\n  'totlngth': '80.5',\n  'taill': '36.0',\n  'footlgth': '62.6',\n  'earconch': '43.6',\n  'eye': '16.3',\n  'chest': '25.0',\n  'belly': '28.5'},\n {'': '84',\n  'case': '85',\n  'site': '6',\n  'Pop': 'other',\n  'sex': 'm',\n  'age': '3.0',\n  'hdlngth': '89.5',\n  'skullw': '56.2',\n  'totlngth': '92.0',\n  'taill': '40.5',\n  'footlgth': '65.6',\n  'earconch': '43.5',\n  'eye': '14.5',\n  'chest': '27.0',\n  'belly': '31.5'},\n {'': '85',\n  'case': '86',\n  'site': '6',\n  'Pop': 'other',\n  'sex': 'f',\n  'age': '3.0',\n  'hdlngth': '88.2',\n  'skullw': '53.2',\n  'totlngth': '86.5',\n  'taill': '38.5',\n  'footlgth': '60.3',\n  'earconch': '43.7',\n  'eye': '13.6',\n  'chest': '26.0',\n  'belly': '31.0'},\n {'': '86',\n  'case': '87',\n  'site': '7',\n  'Pop': 'other',\n  'sex': 'm',\n  'age': '2.0',\n  'hdlngth': '98.5',\n  'skullw': '60.7',\n  'totlngth': '93.0',\n  'taill': '41.5',\n  'footlgth': '71.7',\n  'earconch': '46.8',\n  'eye': '15.0',\n  'chest': '26.0',\n  'belly': '36.0'},\n {'': '87',\n  'case': '88',\n  'site': '7',\n  'Pop': 'other',\n  'sex': 'f',\n  'age': '2.0',\n  'hdlngth': '89.6',\n  'skullw': '58.0',\n  'totlngth': '87.5',\n  'taill': '38.0',\n  'footlgth': '66.7',\n  'earconch': '43.5',\n  'eye': '16.0',\n  'chest': '25.5',\n  'belly': '31.5'},\n {'': '88',\n  'case': '89',\n  'site': '7',\n  'Pop': 'other',\n  'sex': 'm',\n  'age': '6.0',\n  'hdlngth': '97.7',\n  'skullw': '58.4',\n  'totlngth': '84.5',\n  'taill': '35.0',\n  'footlgth': '64.4',\n  'earconch': '46.2',\n  'eye': '14.4',\n  'chest': '29.0',\n  'belly': '30.5'},\n {'': '89',\n  'case': '90',\n  'site': '7',\n  'Pop': 'other',\n  'sex': 'm',\n  'age': '3.0',\n  'hdlngth': '92.6',\n  'skullw': '54.6',\n  'totlngth': '85.0',\n  'taill': '38.5',\n  'footlgth': '69.8',\n  'earconch': '44.8',\n  'eye': '14.5',\n  'chest': '25.5',\n  'belly': '32.5'},\n {'': '90',\n  'case': '91',\n  'site': '7',\n  'Pop': 'other',\n  'sex': 'm',\n  'age': '3.0',\n  'hdlngth': '97.8',\n  'skullw': '59.6',\n  'totlngth': '89.0',\n  'taill': '38.0',\n  'footlgth': '65.5',\n  'earconch': '48.0',\n  'eye': '15.0',\n  'chest': '26.0',\n  'belly': '32.0'},\n {'': '91',\n  'case': '92',\n  'site': '7',\n  'Pop': 'other',\n  'sex': 'm',\n  'age': '2.0',\n  'hdlngth': '90.7',\n  'skullw': '56.3',\n  'totlngth': '85.0',\n  'taill': '37.0',\n  'footlgth': '67.6',\n  'earconch': '46.8',\n  'eye': '14.5',\n  'chest': '25.5',\n  'belly': '31.0'},\n {'': '92',\n  'case': '93',\n  'site': '7',\n  'Pop': 'other',\n  'sex': 'm',\n  'age': '3.0',\n  'hdlngth': '89.2',\n  'skullw': '54.0',\n  'totlngth': '82.0',\n  'taill': '38.0',\n  'footlgth': '63.8',\n  'earconch': '44.9',\n  'eye': '12.8',\n  'chest': '24.0',\n  'belly': '31.0'},\n {'': '93',\n  'case': '94',\n  'site': '7',\n  'Pop': 'other',\n  'sex': 'm',\n  'age': '7.0',\n  'hdlngth': '91.8',\n  'skullw': '57.6',\n  'totlngth': '84.0',\n  'taill': '35.5',\n  'footlgth': '64.2',\n  'earconch': '45.1',\n  'eye': '14.4',\n  'chest': '29.0',\n  'belly': '35.0'},\n {'': '94',\n  'case': '95',\n  'site': '7',\n  'Pop': 'other',\n  'sex': 'm',\n  'age': '4.0',\n  'hdlngth': '91.6',\n  'skullw': '56.6',\n  'totlngth': '88.5',\n  'taill': '37.5',\n  'footlgth': '64.5',\n  'earconch': '45.4',\n  'eye': '14.9',\n  'chest': '27.0',\n  'belly': '31.0'},\n {'': '95',\n  'case': '96',\n  'site': '7',\n  'Pop': 'other',\n  'sex': 'm',\n  'age': '4.0',\n  'hdlngth': '94.8',\n  'skullw': '55.7',\n  'totlngth': '83.0',\n  'taill': '38.0',\n  'footlgth': '66.5',\n  'earconch': '47.7',\n  'eye': '14.0',\n  'chest': '25.0',\n  'belly': '33.0'},\n {'': '96',\n  'case': '97',\n  'site': '7',\n  'Pop': 'other',\n  'sex': 'm',\n  'age': '3.0',\n  'hdlngth': '91.0',\n  'skullw': '53.1',\n  'totlngth': '86.0',\n  'taill': '38.0',\n  'footlgth': '63.8',\n  'earconch': '46.0',\n  'eye': '14.5',\n  'chest': '25.0',\n  'belly': '31.5'},\n {'': '97',\n  'case': '98',\n  'site': '7',\n  'Pop': 'other',\n  'sex': 'm',\n  'age': '5.0',\n  'hdlngth': '93.2',\n  'skullw': '68.6',\n  'totlngth': '84.0',\n  'taill': '35.0',\n  'footlgth': '65.6',\n  'earconch': '44.3',\n  'eye': '14.5',\n  'chest': '28.5',\n  'belly': '32.0'},\n {'': '98',\n  'case': '99',\n  'site': '7',\n  'Pop': 'other',\n  'sex': 'f',\n  'age': '3.0',\n  'hdlngth': '93.3',\n  'skullw': '56.2',\n  'totlngth': '86.5',\n  'taill': '38.5',\n  'footlgth': '64.8',\n  'earconch': '43.8',\n  'eye': '14.0',\n  'chest': '28.0',\n  'belly': '35.0'},\n {'': '99',\n  'case': '100',\n  'site': '7',\n  'Pop': 'other',\n  'sex': 'm',\n  'age': '1.0',\n  'hdlngth': '89.5',\n  'skullw': '56.0',\n  'totlngth': '81.5',\n  'taill': '36.5',\n  'footlgth': '66.0',\n  'earconch': '46.8',\n  'eye': '14.8',\n  'chest': '23.0',\n  'belly': '27.0'},\n {'': '100',\n  'case': '101',\n  'site': '7',\n  'Pop': 'other',\n  'sex': 'm',\n  'age': '1.0',\n  'hdlngth': '88.6',\n  'skullw': '54.7',\n  'totlngth': '82.5',\n  'taill': '39.0',\n  'footlgth': '64.4',\n  'earconch': '48.0',\n  'eye': '14.0',\n  'chest': '25.0',\n  'belly': '33.0'},\n {'': '101',\n  'case': '102',\n  'site': '7',\n  'Pop': 'other',\n  'sex': 'f',\n  'age': '6.0',\n  'hdlngth': '92.4',\n  'skullw': '55.0',\n  'totlngth': '89.0',\n  'taill': '38.0',\n  'footlgth': '63.5',\n  'earconch': '45.4',\n  'eye': '13.0',\n  'chest': '25.0',\n  'belly': '30.0'},\n {'': '102',\n  'case': '103',\n  'site': '7',\n  'Pop': 'other',\n  'sex': 'm',\n  'age': '4.0',\n  'hdlngth': '91.5',\n  'skullw': '55.2',\n  'totlngth': '82.5',\n  'taill': '36.5',\n  'footlgth': '62.9',\n  'earconch': '45.9',\n  'eye': '15.4',\n  'chest': '25.0',\n  'belly': '29.0'},\n {'': '103',\n  'case': '104',\n  'site': '7',\n  'Pop': 'other',\n  'sex': 'f',\n  'age': '3.0',\n  'hdlngth': '93.6',\n  'skullw': '59.9',\n  'totlngth': '89.0',\n  'taill': '40.0',\n  'footlgth': '67.6',\n  'earconch': '46.0',\n  'eye': '14.8',\n  'chest': '28.5',\n  'belly': '33.5'}]"
     },
     "execution_count": 158,
     "metadata": {},
     "output_type": "execute_result"
    }
   ],
   "source": [
    "import numpy as np\n",
    "import csv\n",
    "\n",
    "data = []\n",
    "\n",
    "with open('possum.csv', 'r') as f:\n",
    "    reader = csv.DictReader(f, delimiter=',')\n",
    "    \n",
    "    for row in reader:\n",
    "        data.append(row)\n",
    "        \n",
    "data"
   ]
  },
  {
   "cell_type": "code",
   "execution_count": 153,
   "outputs": [
    {
     "data": {
      "text/plain": "37.04950495049505"
     },
     "execution_count": 153,
     "metadata": {},
     "output_type": "execute_result"
    }
   ],
   "source": [
    "tale_lengths = [float(row['taill']) for row in data]\n",
    "\n",
    "np.mean(tale_lengths)"
   ],
   "metadata": {
    "collapsed": false,
    "ExecuteTime": {
     "end_time": "2023-10-25T19:14:57.662671600Z",
     "start_time": "2023-10-25T19:14:57.660411500Z"
    }
   },
   "id": "3e6111ad1fa5b316"
  },
  {
   "cell_type": "code",
   "execution_count": 154,
   "outputs": [
    {
     "data": {
      "text/plain": "1.9618956160793402"
     },
     "execution_count": 154,
     "metadata": {},
     "output_type": "execute_result"
    }
   ],
   "source": [
    "np.std(tale_lengths)"
   ],
   "metadata": {
    "collapsed": false,
    "ExecuteTime": {
     "end_time": "2023-10-25T19:14:57.669449700Z",
     "start_time": "2023-10-25T19:14:57.662671600Z"
    }
   },
   "id": "845312f92a06dfce"
  },
  {
   "cell_type": "code",
   "execution_count": 155,
   "outputs": [
    {
     "name": "stdout",
     "output_type": "stream",
     "text": [
      "Statistics: 24.112227403034 p: 0.000005808933\n",
      "Is normally distributed: False\n"
     ]
    }
   ],
   "source": [
    "from scipy.stats import normaltest, ttest_ind, linregress\n",
    "\n",
    "skull_widths = [float(row['skullw']) for row in data]\n",
    "\n",
    "stat, p = normaltest(skull_widths)\n",
    "\n",
    "print('Statistics: %.12f p: %.12f' % (stat, p))\n",
    "print('Is normally distributed:', p > 0.05)"
   ],
   "metadata": {
    "collapsed": false,
    "ExecuteTime": {
     "end_time": "2023-10-25T19:14:57.687282500Z",
     "start_time": "2023-10-25T19:14:57.668450200Z"
    }
   },
   "id": "449287524c20394c"
  },
  {
   "cell_type": "code",
   "execution_count": 156,
   "outputs": [
    {
     "name": "stdout",
     "output_type": "stream",
     "text": [
      "Statistics: -2.755724362076 p: 0.008200025485\n",
      "Is different, p < 0.05: True\n"
     ]
    }
   ],
   "source": [
    "group_1 = [float(row['taill']) for row in data if row['site'] == '1']\n",
    "group_7 = [float(row['taill']) for row in data if row['site'] == '7']\n",
    "\n",
    "stat, p = ttest_ind(group_1, group_7)\n",
    "\n",
    "print('Statistics: %.12f p: %.12f' % (stat, p))\n",
    "print('Is different, p < 0.05:', p < 0.05)"
   ],
   "metadata": {
    "collapsed": false,
    "ExecuteTime": {
     "end_time": "2023-10-25T19:14:57.687282500Z",
     "start_time": "2023-10-25T19:14:57.672245100Z"
    }
   },
   "id": "547d734b2d608f90"
  },
  {
   "cell_type": "code",
   "execution_count": 157,
   "outputs": [
    {
     "name": "stdout",
     "output_type": "stream",
     "text": [
      "Slope: 0.5879285212978455\n",
      "Intercept: 85.02237218593102\n",
      "R: 0.26829711623874114\n",
      "P: 0.006673425568822183\n",
      "Std Err: 0.21216259210804228\n"
     ]
    }
   ],
   "source": [
    "ages = [float(row['age']) for row in data]\n",
    "total_lengths = [float(row['totlngth']) for row in data]\n",
    "\n",
    "slope, intercept, r, p, std_err = linregress(ages, total_lengths)\n",
    "\n",
    "print('Slope:', slope)\n",
    "print('Intercept:', intercept)\n",
    "print('R:', r)\n",
    "print('P:', p)\n",
    "print('Std Err:', std_err)"
   ],
   "metadata": {
    "collapsed": false,
    "ExecuteTime": {
     "end_time": "2023-10-25T19:14:57.687282500Z",
     "start_time": "2023-10-25T19:14:57.677797Z"
    }
   },
   "id": "be152893794b3ffe"
  }
 ],
 "metadata": {
  "kernelspec": {
   "display_name": "Python 3",
   "language": "python",
   "name": "python3"
  },
  "language_info": {
   "codemirror_mode": {
    "name": "ipython",
    "version": 2
   },
   "file_extension": ".py",
   "mimetype": "text/x-python",
   "name": "python",
   "nbconvert_exporter": "python",
   "pygments_lexer": "ipython2",
   "version": "2.7.6"
  }
 },
 "nbformat": 4,
 "nbformat_minor": 5
}
