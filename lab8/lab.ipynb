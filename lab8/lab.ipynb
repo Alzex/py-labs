{
 "cells": [
  {
   "cell_type": "code",
   "execution_count": 190,
   "id": "initial_id",
   "metadata": {
    "collapsed": true,
    "ExecuteTime": {
     "end_time": "2023-12-25T18:31:00.829283200Z",
     "start_time": "2023-12-25T18:31:00.759466600Z"
    }
   },
   "outputs": [
    {
     "data": {
      "text/plain": "  state  account length  area code phone number international plan  \\\n0    KS             128        415     382-4657                 no   \n1    OH             107        415     371-7191                 no   \n2    NJ             137        415     358-1921                 no   \n3    OH              84        408     375-9999                yes   \n4    OK              75        415     330-6626                yes   \n\n  voice mail plan  number vmail messages  total day minutes  total day calls  \\\n0             yes                     25              265.1              110   \n1             yes                     26              161.6              123   \n2              no                      0              243.4              114   \n3              no                      0              299.4               71   \n4              no                      0              166.7              113   \n\n   total day charge  ...  total eve calls  total eve charge  \\\n0             45.07  ...               99             16.78   \n1             27.47  ...              103             16.62   \n2             41.38  ...              110             10.30   \n3             50.90  ...               88              5.26   \n4             28.34  ...              122             12.61   \n\n   total night minutes  total night calls  total night charge  \\\n0                244.7                 91               11.01   \n1                254.4                103               11.45   \n2                162.6                104                7.32   \n3                196.9                 89                8.86   \n4                186.9                121                8.41   \n\n   total intl minutes  total intl calls  total intl charge  \\\n0                10.0                 3               2.70   \n1                13.7                 3               3.70   \n2                12.2                 5               3.29   \n3                 6.6                 7               1.78   \n4                10.1                 3               2.73   \n\n   customer service calls  churn  \n0                       1  False  \n1                       1  False  \n2                       0  False  \n3                       2  False  \n4                       3  False  \n\n[5 rows x 21 columns]",
      "text/html": "<div>\n<style scoped>\n    .dataframe tbody tr th:only-of-type {\n        vertical-align: middle;\n    }\n\n    .dataframe tbody tr th {\n        vertical-align: top;\n    }\n\n    .dataframe thead th {\n        text-align: right;\n    }\n</style>\n<table border=\"1\" class=\"dataframe\">\n  <thead>\n    <tr style=\"text-align: right;\">\n      <th></th>\n      <th>state</th>\n      <th>account length</th>\n      <th>area code</th>\n      <th>phone number</th>\n      <th>international plan</th>\n      <th>voice mail plan</th>\n      <th>number vmail messages</th>\n      <th>total day minutes</th>\n      <th>total day calls</th>\n      <th>total day charge</th>\n      <th>...</th>\n      <th>total eve calls</th>\n      <th>total eve charge</th>\n      <th>total night minutes</th>\n      <th>total night calls</th>\n      <th>total night charge</th>\n      <th>total intl minutes</th>\n      <th>total intl calls</th>\n      <th>total intl charge</th>\n      <th>customer service calls</th>\n      <th>churn</th>\n    </tr>\n  </thead>\n  <tbody>\n    <tr>\n      <th>0</th>\n      <td>KS</td>\n      <td>128</td>\n      <td>415</td>\n      <td>382-4657</td>\n      <td>no</td>\n      <td>yes</td>\n      <td>25</td>\n      <td>265.1</td>\n      <td>110</td>\n      <td>45.07</td>\n      <td>...</td>\n      <td>99</td>\n      <td>16.78</td>\n      <td>244.7</td>\n      <td>91</td>\n      <td>11.01</td>\n      <td>10.0</td>\n      <td>3</td>\n      <td>2.70</td>\n      <td>1</td>\n      <td>False</td>\n    </tr>\n    <tr>\n      <th>1</th>\n      <td>OH</td>\n      <td>107</td>\n      <td>415</td>\n      <td>371-7191</td>\n      <td>no</td>\n      <td>yes</td>\n      <td>26</td>\n      <td>161.6</td>\n      <td>123</td>\n      <td>27.47</td>\n      <td>...</td>\n      <td>103</td>\n      <td>16.62</td>\n      <td>254.4</td>\n      <td>103</td>\n      <td>11.45</td>\n      <td>13.7</td>\n      <td>3</td>\n      <td>3.70</td>\n      <td>1</td>\n      <td>False</td>\n    </tr>\n    <tr>\n      <th>2</th>\n      <td>NJ</td>\n      <td>137</td>\n      <td>415</td>\n      <td>358-1921</td>\n      <td>no</td>\n      <td>no</td>\n      <td>0</td>\n      <td>243.4</td>\n      <td>114</td>\n      <td>41.38</td>\n      <td>...</td>\n      <td>110</td>\n      <td>10.30</td>\n      <td>162.6</td>\n      <td>104</td>\n      <td>7.32</td>\n      <td>12.2</td>\n      <td>5</td>\n      <td>3.29</td>\n      <td>0</td>\n      <td>False</td>\n    </tr>\n    <tr>\n      <th>3</th>\n      <td>OH</td>\n      <td>84</td>\n      <td>408</td>\n      <td>375-9999</td>\n      <td>yes</td>\n      <td>no</td>\n      <td>0</td>\n      <td>299.4</td>\n      <td>71</td>\n      <td>50.90</td>\n      <td>...</td>\n      <td>88</td>\n      <td>5.26</td>\n      <td>196.9</td>\n      <td>89</td>\n      <td>8.86</td>\n      <td>6.6</td>\n      <td>7</td>\n      <td>1.78</td>\n      <td>2</td>\n      <td>False</td>\n    </tr>\n    <tr>\n      <th>4</th>\n      <td>OK</td>\n      <td>75</td>\n      <td>415</td>\n      <td>330-6626</td>\n      <td>yes</td>\n      <td>no</td>\n      <td>0</td>\n      <td>166.7</td>\n      <td>113</td>\n      <td>28.34</td>\n      <td>...</td>\n      <td>122</td>\n      <td>12.61</td>\n      <td>186.9</td>\n      <td>121</td>\n      <td>8.41</td>\n      <td>10.1</td>\n      <td>3</td>\n      <td>2.73</td>\n      <td>3</td>\n      <td>False</td>\n    </tr>\n  </tbody>\n</table>\n<p>5 rows × 21 columns</p>\n</div>"
     },
     "execution_count": 190,
     "metadata": {},
     "output_type": "execute_result"
    }
   ],
   "source": [
    "import pandas as pd\n",
    "from sklearn.linear_model import LogisticRegression\n",
    "from sklearn.model_selection import train_test_split, cross_val_score\n",
    "from sklearn.preprocessing import LabelEncoder\n",
    "\n",
    "file_path = 'telecom.csv'\n",
    "telecom_data = pd.read_csv(file_path)\n",
    "\n",
    "telecom_data.head()"
   ]
  },
  {
   "cell_type": "code",
   "outputs": [
    {
     "name": "stdout",
     "output_type": "stream",
     "text": [
      "Independent Training Data:\n",
      "(1214, 17)\n",
      "\n",
      "Independent Test Data:\n",
      "(521, 17)\n",
      "\n",
      "Target Training Data:\n",
      "(1214,)\n",
      "\n",
      "Target Test Data:\n",
      "(521,)\n"
     ]
    }
   ],
   "source": [
    "le = LabelEncoder()\n",
    "\n",
    "# Using all fields except state, phone number, and area code as independent variables\n",
    "data_to_analyze = telecom_data.drop(['state', 'phone number', 'area code'], axis=1)\n",
    "\n",
    "# Convert categorical variables to numerical\n",
    "data_to_analyze['international plan'] = le.fit_transform(data_to_analyze['international plan'])\n",
    "data_to_analyze['voice mail plan'] = le.fit_transform(data_to_analyze['voice mail plan'])\n",
    "data_to_analyze['churn'] = le.fit_transform(data_to_analyze['churn'])\n",
    "\n",
    "independent = data_to_analyze.drop(['churn'], axis=1)\n",
    "target = data_to_analyze['churn']\n",
    "\n",
    "ind_train, ind_test, tar_train, tar_test = train_test_split(independent, target, test_size=0.3, random_state=42)\n",
    "\n",
    "print('Independent Training Data:\\n%s\\n\\nIndependent Test Data:\\n%s\\n\\nTarget Training Data:\\n%s\\n\\nTarget Test Data:\\n%s' % (ind_train.shape, ind_test.shape, tar_train.shape, tar_test.shape))"
   ],
   "metadata": {
    "collapsed": false,
    "ExecuteTime": {
     "end_time": "2023-12-25T18:31:00.830283100Z",
     "start_time": "2023-12-25T18:31:00.778029800Z"
    }
   },
   "id": "cfb3118fc103a678",
   "execution_count": 191
  },
  {
   "cell_type": "code",
   "outputs": [
    {
     "name": "stdout",
     "output_type": "stream",
     "text": [
      "Logistic Regression\n",
      "\n",
      "Accuracy: 0.8579654510556622\n",
      "\n",
      "              precision    recall  f1-score   support\n",
      "\n",
      "           0       0.88      0.97      0.92       447\n",
      "           1       0.50      0.18      0.26        74\n",
      "\n",
      "    accuracy                           0.86       521\n",
      "   macro avg       0.69      0.57      0.59       521\n",
      "weighted avg       0.82      0.86      0.83       521\n",
      "\n",
      "Cross Validation Scores:\n",
      "[0.86065574 0.87704918 0.89344262 0.91803279 0.90082645 0.89256198\n",
      " 0.8677686  0.87603306 0.85950413 0.85123967]\n"
     ]
    }
   ],
   "source": [
    "from sklearn.metrics import classification_report\n",
    "\n",
    "model_1 = LogisticRegression(max_iter=10000)\n",
    "model_1.fit(ind_train, tar_train)\n",
    "\n",
    "tar_pred = model_1.predict(ind_test)\n",
    "\n",
    "accuracy = model_1.score(ind_test, tar_test)\n",
    "class_report = classification_report(tar_test, tar_pred)\n",
    "cross_val = cross_val_score(model_1, ind_train, tar_train, cv=10)\n",
    "\n",
    "print('Logistic Regression\\n\\nAccuracy: %s\\n\\n%s\\nCross Validation Scores:\\n%s' % (accuracy, class_report, cross_val))"
   ],
   "metadata": {
    "collapsed": false,
    "ExecuteTime": {
     "end_time": "2023-12-25T18:31:04.961757400Z",
     "start_time": "2023-12-25T18:31:00.785684700Z"
    }
   },
   "id": "ec7717bb775f85c8",
   "execution_count": 192
  },
  {
   "cell_type": "code",
   "outputs": [
    {
     "name": "stdout",
     "output_type": "stream",
     "text": [
      "Random Forest\n",
      "\n",
      "Accuracy: 0.9347408829174664\n",
      "\n",
      "              precision    recall  f1-score   support\n",
      "\n",
      "           0       0.94      0.99      0.96       447\n",
      "           1       0.92      0.59      0.72        74\n",
      "\n",
      "    accuracy                           0.93       521\n",
      "   macro avg       0.93      0.79      0.84       521\n",
      "weighted avg       0.93      0.93      0.93       521\n",
      "\n",
      "Cross Validation Scores:\n",
      "[0.95081967 0.95081967 0.93442623 0.95081967 0.95867769 0.94214876\n",
      " 0.91735537 0.95041322 0.91735537 0.92561983]\n"
     ]
    }
   ],
   "source": [
    "from sklearn.ensemble import RandomForestClassifier\n",
    "\n",
    "# Change classification algorithm to Random Forest to see if accuracy improves\n",
    "model_2 = RandomForestClassifier(n_estimators=100, random_state=42)\n",
    "model_2.fit(ind_train, tar_train)\n",
    "\n",
    "tar_pred = model_2.predict(ind_test)\n",
    "\n",
    "accuracy = model_2.score(ind_test, tar_test)\n",
    "class_report = classification_report(tar_test, tar_pred)\n",
    "cross_val = cross_val_score(model_2, ind_train, tar_train, cv=10)\n",
    "\n",
    "print('Random Forest\\n\\nAccuracy: %s\\n\\n%s\\nCross Validation Scores:\\n%s' % (accuracy, class_report, cross_val))"
   ],
   "metadata": {
    "collapsed": false,
    "ExecuteTime": {
     "end_time": "2023-12-25T18:31:09.338112Z",
     "start_time": "2023-12-25T18:31:04.952742500Z"
    }
   },
   "id": "576f8c72a1c18b49",
   "execution_count": 193
  }
 ],
 "metadata": {
  "kernelspec": {
   "display_name": "Python 3",
   "language": "python",
   "name": "python3"
  },
  "language_info": {
   "codemirror_mode": {
    "name": "ipython",
    "version": 2
   },
   "file_extension": ".py",
   "mimetype": "text/x-python",
   "name": "python",
   "nbconvert_exporter": "python",
   "pygments_lexer": "ipython2",
   "version": "2.7.6"
  }
 },
 "nbformat": 4,
 "nbformat_minor": 5
}
