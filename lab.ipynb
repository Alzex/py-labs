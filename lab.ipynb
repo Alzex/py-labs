{
 "cells": [
  {
   "cell_type": "markdown",
   "source": [
    "Lab1\n"
   ],
   "metadata": {
    "collapsed": false
   },
   "id": "2fa4ea7f3c30b116"
  },
  {
   "cell_type": "code",
   "execution_count": 1,
   "outputs": [
    {
     "data": {
      "text/plain": "array([[  1,   2,   3,   4,   5],\n       [ 55,  66,  77,  88,  99],\n       [111, 222, 333, 444, 555]])"
     },
     "execution_count": 1,
     "metadata": {},
     "output_type": "execute_result"
    }
   ],
   "source": [
    "import numpy as np\n",
    "import pandas as pd\n",
    "\n",
    "# Static array\n",
    "np.array([[1,2,3,4,5],[55,66,77,88,99],[111,222,333,444,555]])"
   ],
   "metadata": {
    "collapsed": false,
    "ExecuteTime": {
     "end_time": "2023-10-11T18:15:11.702319600Z",
     "start_time": "2023-10-11T18:15:08.743291100Z"
    }
   },
   "id": "167092257eba3a5b"
  },
  {
   "cell_type": "code",
   "execution_count": 2,
   "outputs": [
    {
     "data": {
      "text/plain": "array([[0.14069928, 0.28087293, 0.42905474, 0.5496995 , 0.96802396],\n       [0.50225572, 0.56185533, 0.64174831, 0.65716351, 0.74370163],\n       [0.20376007, 0.67495182, 0.87546039, 0.06881503, 0.64875525]])"
     },
     "execution_count": 2,
     "metadata": {},
     "output_type": "execute_result"
    }
   ],
   "source": [
    "# Random array (3x5 matrix)\n",
    "np.random.rand(3,5)"
   ],
   "metadata": {
    "collapsed": false,
    "ExecuteTime": {
     "end_time": "2023-10-11T18:15:11.714678600Z",
     "start_time": "2023-10-11T18:15:11.700914400Z"
    }
   },
   "id": "cfe153e3a224134c"
  },
  {
   "cell_type": "code",
   "execution_count": 3,
   "outputs": [
    {
     "data": {
      "text/plain": "array([[0, 0, 0, 0],\n       [0, 0, 0, 0],\n       [0, 0, 0, 0],\n       [0, 0, 0, 0],\n       [0, 0, 0, 0]])"
     },
     "execution_count": 3,
     "metadata": {},
     "output_type": "execute_result"
    }
   ],
   "source": [
    "# Array with zero integers 5x4 matrix\n",
    "np.zeros((5,4), dtype=int)"
   ],
   "metadata": {
    "collapsed": false,
    "ExecuteTime": {
     "end_time": "2023-10-11T18:15:11.719186900Z",
     "start_time": "2023-10-11T18:15:11.714678600Z"
    }
   },
   "id": "644996c8c9800fc0"
  },
  {
   "cell_type": "code",
   "execution_count": 4,
   "outputs": [
    {
     "data": {
      "text/plain": "array([[1., 1., 1.],\n       [1., 1., 1.],\n       [1., 1., 1.]])"
     },
     "execution_count": 4,
     "metadata": {},
     "output_type": "execute_result"
    }
   ],
   "source": [
    "# Array with float ones 3x3 matrix\n",
    "np.ones((3,3), dtype=float)"
   ],
   "metadata": {
    "collapsed": false,
    "ExecuteTime": {
     "end_time": "2023-10-11T18:15:11.727017400Z",
     "start_time": "2023-10-11T18:15:11.720187500Z"
    }
   },
   "id": "735936b0ce70f77b"
  },
  {
   "cell_type": "code",
   "execution_count": 5,
   "outputs": [
    {
     "data": {
      "text/plain": "array([ 0,  5, 10, 15, 20, 25, 30, 35, 40, 45, 50, 55, 60, 65, 70, 75, 80,\n       85, 90, 95])"
     },
     "execution_count": 5,
     "metadata": {},
     "output_type": "execute_result"
    }
   ],
   "source": [
    "# Array with 5 integers from 0 to 100\n",
    "np.arange(0,100,5)"
   ],
   "metadata": {
    "collapsed": false,
    "ExecuteTime": {
     "end_time": "2023-10-11T18:15:11.728533300Z",
     "start_time": "2023-10-11T18:15:11.725210800Z"
    }
   },
   "id": "24b2246c3ab7bbf6"
  },
  {
   "cell_type": "code",
   "execution_count": 6,
   "outputs": [
    {
     "data": {
      "text/plain": "array([0. , 0.5, 1. , 1.5, 2. ])"
     },
     "execution_count": 6,
     "metadata": {},
     "output_type": "execute_result"
    }
   ],
   "source": [
    "# Array with 5 float numbers from 0 to 2\n",
    "np.linspace(0,2,5)"
   ],
   "metadata": {
    "collapsed": false,
    "ExecuteTime": {
     "end_time": "2023-10-11T18:15:11.731705400Z",
     "start_time": "2023-10-11T18:15:11.728533300Z"
    }
   },
   "id": "a6353ffe6b19344b"
  },
  {
   "cell_type": "code",
   "execution_count": 7,
   "outputs": [
    {
     "data": {
      "text/plain": "array([[55,  6, 12, 50, 59, 64, 18,  9, 67, 19],\n       [95, 48, 68, 61, 92, 55, 82, 52, 36, 57],\n       [52, 29, 37, 12, 91, 57, 89, 10, 62,  0],\n       [16, 43, 51, 98, 59, 89,  3, 17, 61, 71],\n       [23, 18, 15, 41, 11, 20, 46,  8, 17, 91],\n       [25, 25, 26, 31, 11, 65, 11, 43, 11, 13],\n       [55, 94, 14, 66, 79, 63, 57, 35, 83, 47],\n       [45, 62, 13, 10, 84, 37, 81, 49, 53, 22],\n       [24, 98, 49, 84, 96, 45, 32, 91, 92, 67],\n       [66, 86, 96, 87, 29, 21,  4, 81, 90,  5]])"
     },
     "execution_count": 7,
     "metadata": {},
     "output_type": "execute_result"
    }
   ],
   "source": [
    "# Random integer array 10x10 matrix\n",
    "np.random.randint(0,100,(10,10))"
   ],
   "metadata": {
    "collapsed": false,
    "ExecuteTime": {
     "end_time": "2023-10-11T18:15:11.776767600Z",
     "start_time": "2023-10-11T18:15:11.731705400Z"
    }
   },
   "id": "6ba64c8e00f717cd"
  },
  {
   "cell_type": "code",
   "execution_count": 8,
   "outputs": [
    {
     "data": {
      "text/plain": "array([[1., 1., 1.],\n       [1., 1., 1.],\n       [1., 1., 1.]])"
     },
     "execution_count": 8,
     "metadata": {},
     "output_type": "execute_result"
    }
   ],
   "source": [
    "#Empty array 3x3 matrix\n",
    "np.empty((3,3))"
   ],
   "metadata": {
    "collapsed": false,
    "ExecuteTime": {
     "end_time": "2023-10-11T18:15:11.777766700Z",
     "start_time": "2023-10-11T18:15:11.755256900Z"
    }
   },
   "id": "a7c67cf6c7eca569"
  },
  {
   "cell_type": "code",
   "execution_count": 9,
   "outputs": [
    {
     "data": {
      "text/plain": "7"
     },
     "execution_count": 9,
     "metadata": {},
     "output_type": "execute_result"
    }
   ],
   "source": [
    "a = np.array([1,4,5,6,7])\n",
    "matrix = np.array([[1,2,3,4,5],[55,66,77,88,99],[111,222,333,444,555]])\n",
    "\n",
    "a[-1]"
   ],
   "metadata": {
    "collapsed": false,
    "ExecuteTime": {
     "end_time": "2023-10-11T18:15:11.777766700Z",
     "start_time": "2023-10-11T18:15:11.761706100Z"
    }
   },
   "id": "125191ed7d4f0d3d"
  },
  {
   "cell_type": "code",
   "execution_count": 10,
   "outputs": [
    {
     "data": {
      "text/plain": "array([1, 4, 5])"
     },
     "execution_count": 10,
     "metadata": {},
     "output_type": "execute_result"
    }
   ],
   "source": [
    "a[0:3]"
   ],
   "metadata": {
    "collapsed": false,
    "ExecuteTime": {
     "end_time": "2023-10-11T18:15:11.778269100Z",
     "start_time": "2023-10-11T18:15:11.764726500Z"
    }
   },
   "id": "744877db63a82838"
  },
  {
   "cell_type": "code",
   "execution_count": 11,
   "outputs": [
    {
     "data": {
      "text/plain": "6"
     },
     "execution_count": 11,
     "metadata": {},
     "output_type": "execute_result"
    }
   ],
   "source": [
    "a[3]"
   ],
   "metadata": {
    "collapsed": false,
    "ExecuteTime": {
     "end_time": "2023-10-11T18:15:11.778269100Z",
     "start_time": "2023-10-11T18:15:11.768843600Z"
    }
   },
   "id": "8a61a12f1e8a6a62"
  },
  {
   "cell_type": "code",
   "execution_count": 12,
   "outputs": [
    {
     "data": {
      "text/plain": "array([[ 77,  88],\n       [333, 444]])"
     },
     "execution_count": 12,
     "metadata": {},
     "output_type": "execute_result"
    }
   ],
   "source": [
    "matrix[1:3,2:4]"
   ],
   "metadata": {
    "collapsed": false,
    "ExecuteTime": {
     "end_time": "2023-10-11T18:15:11.778269100Z",
     "start_time": "2023-10-11T18:15:11.772138200Z"
    }
   },
   "id": "5173b166783ff043"
  },
  {
   "cell_type": "code",
   "execution_count": 13,
   "outputs": [
    {
     "data": {
      "text/plain": "444"
     },
     "execution_count": 13,
     "metadata": {},
     "output_type": "execute_result"
    }
   ],
   "source": [
    "matrix[2][3]"
   ],
   "metadata": {
    "collapsed": false,
    "ExecuteTime": {
     "end_time": "2023-10-11T18:15:11.792965800Z",
     "start_time": "2023-10-11T18:15:11.775766400Z"
    }
   },
   "id": "1ba698aed183875"
  },
  {
   "cell_type": "code",
   "execution_count": 14,
   "outputs": [
    {
     "data": {
      "text/plain": "array([24, 27, 28, 29, 30])"
     },
     "execution_count": 14,
     "metadata": {},
     "output_type": "execute_result"
    }
   ],
   "source": [
    "a + 23"
   ],
   "metadata": {
    "collapsed": false,
    "ExecuteTime": {
     "end_time": "2023-10-11T18:15:11.793970800Z",
     "start_time": "2023-10-11T18:15:11.781273200Z"
    }
   },
   "id": "7b8d9dc9a8d25a0d"
  },
  {
   "cell_type": "code",
   "execution_count": 15,
   "outputs": [
    {
     "data": {
      "text/plain": "array([[  0.5,   1. ,   1.5,   2. ,   2.5],\n       [ 27.5,  33. ,  38.5,  44. ,  49.5],\n       [ 55.5, 111. , 166.5, 222. , 277.5]])"
     },
     "execution_count": 15,
     "metadata": {},
     "output_type": "execute_result"
    }
   ],
   "source": [
    "matrix * 0.5"
   ],
   "metadata": {
    "collapsed": false,
    "ExecuteTime": {
     "end_time": "2023-10-11T18:15:11.793970800Z",
     "start_time": "2023-10-11T18:15:11.783722Z"
    }
   },
   "id": "8cf9add3efcd4210"
  },
  {
   "cell_type": "code",
   "execution_count": 16,
   "outputs": [
    {
     "data": {
      "text/plain": "array([          1,    16777216,   244140625, -2118184960,   956385313],\n      dtype=int32)"
     },
     "execution_count": 16,
     "metadata": {},
     "output_type": "execute_result"
    }
   ],
   "source": [
    "a ** 12"
   ],
   "metadata": {
    "collapsed": false,
    "ExecuteTime": {
     "end_time": "2023-10-11T18:15:11.794970600Z",
     "start_time": "2023-10-11T18:15:11.787549700Z"
    }
   },
   "id": "744064a04abe04f2"
  },
  {
   "cell_type": "code",
   "execution_count": 17,
   "outputs": [
    {
     "data": {
      "text/plain": "23"
     },
     "execution_count": 17,
     "metadata": {},
     "output_type": "execute_result"
    }
   ],
   "source": [
    "np.add.reduce(a)"
   ],
   "metadata": {
    "collapsed": false,
    "ExecuteTime": {
     "end_time": "2023-10-11T18:15:11.796231100Z",
     "start_time": "2023-10-11T18:15:11.790461600Z"
    }
   },
   "id": "6090330b08eb5314"
  },
  {
   "cell_type": "code",
   "execution_count": 18,
   "outputs": [
    {
     "data": {
      "text/plain": "array([ 1,  5, 10, 16, 23])"
     },
     "execution_count": 18,
     "metadata": {},
     "output_type": "execute_result"
    }
   ],
   "source": [
    "np.add.accumulate(a)"
   ],
   "metadata": {
    "collapsed": false,
    "ExecuteTime": {
     "end_time": "2023-10-11T18:15:11.806095500Z",
     "start_time": "2023-10-11T18:15:11.793970800Z"
    }
   },
   "id": "d22523bce981c4d"
  },
  {
   "cell_type": "code",
   "execution_count": 19,
   "outputs": [
    {
     "data": {
      "text/plain": "array([[1.        , 0.25      , 0.2       , 0.16666667, 0.14285714],\n       [4.        , 1.        , 0.8       , 0.66666667, 0.57142857],\n       [5.        , 1.25      , 1.        , 0.83333333, 0.71428571],\n       [6.        , 1.5       , 1.2       , 1.        , 0.85714286],\n       [7.        , 1.75      , 1.4       , 1.16666667, 1.        ]])"
     },
     "execution_count": 19,
     "metadata": {},
     "output_type": "execute_result"
    }
   ],
   "source": [
    "np.divide.outer(a,a)"
   ],
   "metadata": {
    "collapsed": false,
    "ExecuteTime": {
     "end_time": "2023-10-11T18:15:11.876231600Z",
     "start_time": "2023-10-11T18:15:11.797858100Z"
    }
   },
   "id": "3d70a730d8c9c2c1"
  },
  {
   "cell_type": "code",
   "execution_count": 20,
   "outputs": [
    {
     "data": {
      "text/plain": "2.5"
     },
     "execution_count": 20,
     "metadata": {},
     "output_type": "execute_result"
    }
   ],
   "source": [
    "data = pd.read_csv('iris.csv')\n",
    "petals = data[['petal_width']]\n",
    "\n",
    "#max petal width\n",
    "np.max(petals)"
   ],
   "metadata": {
    "collapsed": false,
    "ExecuteTime": {
     "end_time": "2023-10-11T18:15:11.953227200Z",
     "start_time": "2023-10-11T18:15:11.801584800Z"
    }
   },
   "id": "87a5c1258478361f"
  },
  {
   "cell_type": "code",
   "execution_count": 21,
   "outputs": [
    {
     "data": {
      "text/plain": "0.1"
     },
     "execution_count": 21,
     "metadata": {},
     "output_type": "execute_result"
    }
   ],
   "source": [
    "#min petal width\n",
    "np.min(petals)"
   ],
   "metadata": {
    "collapsed": false,
    "ExecuteTime": {
     "end_time": "2023-10-11T18:15:11.954232700Z",
     "start_time": "2023-10-11T18:15:11.928965700Z"
    }
   },
   "id": "28b41f2d0e8020d9"
  },
  {
   "cell_type": "code",
   "execution_count": 22,
   "outputs": [
    {
     "data": {
      "text/plain": "1.1986666666666668"
     },
     "execution_count": 22,
     "metadata": {},
     "output_type": "execute_result"
    }
   ],
   "source": [
    "#mean petal width\n",
    "np.mean(petals)"
   ],
   "metadata": {
    "collapsed": false,
    "ExecuteTime": {
     "end_time": "2023-10-11T18:15:11.954232700Z",
     "start_time": "2023-10-11T18:15:11.933140600Z"
    }
   },
   "id": "cc981faaead69fe5"
  },
  {
   "cell_type": "code",
   "execution_count": 23,
   "outputs": [
    {
     "name": "stderr",
     "output_type": "stream",
     "text": [
      "F:\\univer\\data\\py-lab1\\venv\\Lib\\site-packages\\numpy\\core\\fromnumeric.py:3785: FutureWarning: The behavior of DataFrame.var with axis=None is deprecated, in a future version this will reduce over both axes and return a scalar. To retain the old behavior, pass axis=0 (or do not pass axis)\n",
      "  return var(axis=axis, dtype=dtype, out=out, ddof=ddof, **kwargs)\n"
     ]
    },
    {
     "data": {
      "text/plain": "petal_width    0.578532\ndtype: float64"
     },
     "execution_count": 23,
     "metadata": {},
     "output_type": "execute_result"
    }
   ],
   "source": [
    "#variance petal width\n",
    "np.var(petals)"
   ],
   "metadata": {
    "collapsed": false,
    "ExecuteTime": {
     "end_time": "2023-10-11T18:15:11.955431700Z",
     "start_time": "2023-10-11T18:15:11.936447100Z"
    }
   },
   "id": "17d4b3e9d35207e9"
  },
  {
   "cell_type": "code",
   "execution_count": 24,
   "outputs": [
    {
     "name": "stderr",
     "output_type": "stream",
     "text": [
      "F:\\univer\\data\\py-lab1\\venv\\Lib\\site-packages\\numpy\\core\\fromnumeric.py:3643: FutureWarning: The behavior of DataFrame.std with axis=None is deprecated, in a future version this will reduce over both axes and return a scalar. To retain the old behavior, pass axis=0 (or do not pass axis)\n",
      "  return std(axis=axis, dtype=dtype, out=out, ddof=ddof, **kwargs)\n"
     ]
    },
    {
     "data": {
      "text/plain": "petal_width    0.760613\ndtype: float64"
     },
     "execution_count": 24,
     "metadata": {},
     "output_type": "execute_result"
    }
   ],
   "source": [
    "#standard deviation petal width\n",
    "np.std(petals)"
   ],
   "metadata": {
    "collapsed": false,
    "ExecuteTime": {
     "end_time": "2023-10-11T18:15:11.955431700Z",
     "start_time": "2023-10-11T18:15:11.944465700Z"
    }
   },
   "id": "b94a0110b2428ea"
  },
  {
   "cell_type": "code",
   "execution_count": 25,
   "outputs": [
    {
     "data": {
      "text/plain": "1.3"
     },
     "execution_count": 25,
     "metadata": {},
     "output_type": "execute_result"
    }
   ],
   "source": [
    "#median petal width\n",
    "np.median(petals)"
   ],
   "metadata": {
    "collapsed": false,
    "ExecuteTime": {
     "end_time": "2023-10-11T18:15:11.956436600Z",
     "start_time": "2023-10-11T18:15:11.948973900Z"
    }
   },
   "id": "44c562aab4021f21"
  },
  {
   "cell_type": "code",
   "execution_count": 26,
   "outputs": [
    {
     "data": {
      "text/plain": "0.3"
     },
     "execution_count": 26,
     "metadata": {},
     "output_type": "execute_result"
    }
   ],
   "source": [
    "#25 percentile petal width\n",
    "np.percentile(petals, 25)"
   ],
   "metadata": {
    "collapsed": false,
    "ExecuteTime": {
     "end_time": "2023-10-11T18:15:11.960771400Z",
     "start_time": "2023-10-11T18:15:11.953227200Z"
    }
   },
   "id": "3da061c2c2670531"
  },
  {
   "cell_type": "code",
   "execution_count": 27,
   "outputs": [
    {
     "data": {
      "text/plain": "1.8"
     },
     "execution_count": 27,
     "metadata": {},
     "output_type": "execute_result"
    }
   ],
   "source": [
    "#75 percentile petal width\n",
    "np.percentile(petals, 75)"
   ],
   "metadata": {
    "collapsed": false,
    "ExecuteTime": {
     "end_time": "2023-10-11T18:15:11.961772Z",
     "start_time": "2023-10-11T18:15:11.956436600Z"
    }
   },
   "id": "6bd88dd538fc3e24"
  }
 ],
 "metadata": {
  "kernelspec": {
   "display_name": "Python 3 (ipykernel)",
   "language": "python",
   "name": "python3"
  },
  "language_info": {
   "codemirror_mode": {
    "name": "ipython",
    "version": 3
   },
   "file_extension": ".py",
   "mimetype": "text/x-python",
   "name": "python",
   "nbconvert_exporter": "python",
   "pygments_lexer": "ipython3",
   "version": "3.11.2"
  }
 },
 "nbformat": 4,
 "nbformat_minor": 5
}
