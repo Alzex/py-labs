{
 "cells": [
  {
   "cell_type": "markdown",
   "source": [
    "Lab1\n"
   ],
   "metadata": {
    "collapsed": false
   },
   "id": "2fa4ea7f3c30b116"
  },
  {
   "cell_type": "code",
   "execution_count": 362,
   "outputs": [
    {
     "data": {
      "text/plain": "array([[  1,   2,   3,   4,   5],\n       [ 55,  66,  77,  88,  99],\n       [111, 222, 333, 444, 555]])"
     },
     "execution_count": 362,
     "metadata": {},
     "output_type": "execute_result"
    }
   ],
   "source": [
    "import numpy as np\n",
    "import pandas as pd\n",
    "\n",
    "# Static array\n",
    "np.array([[1,2,3,4,5],[55,66,77,88,99],[111,222,333,444,555]])"
   ],
   "metadata": {
    "collapsed": false,
    "ExecuteTime": {
     "end_time": "2023-10-10T20:13:15.106878100Z",
     "start_time": "2023-10-10T20:13:15.064539900Z"
    }
   },
   "id": "167092257eba3a5b"
  },
  {
   "cell_type": "code",
   "execution_count": 363,
   "outputs": [
    {
     "data": {
      "text/plain": "array([[0.4103283 , 0.78390192, 0.27693338, 0.19236706, 0.20777768],\n       [0.90634607, 0.90233451, 0.92853245, 0.36031992, 0.31300582],\n       [0.93567505, 0.96927176, 0.51186993, 0.86604605, 0.61202164]])"
     },
     "execution_count": 363,
     "metadata": {},
     "output_type": "execute_result"
    }
   ],
   "source": [
    "# Random array (3x5 matrix)\n",
    "np.random.rand(3,5)"
   ],
   "metadata": {
    "collapsed": false,
    "ExecuteTime": {
     "end_time": "2023-10-10T20:13:15.106878100Z",
     "start_time": "2023-10-10T20:13:15.067045200Z"
    }
   },
   "id": "cfe153e3a224134c"
  },
  {
   "cell_type": "code",
   "execution_count": 364,
   "outputs": [
    {
     "data": {
      "text/plain": "array([[0, 0, 0, 0],\n       [0, 0, 0, 0],\n       [0, 0, 0, 0],\n       [0, 0, 0, 0],\n       [0, 0, 0, 0]])"
     },
     "execution_count": 364,
     "metadata": {},
     "output_type": "execute_result"
    }
   ],
   "source": [
    "# Array with zero integers 5x4 matrix\n",
    "np.zeros((5,4), dtype=int)"
   ],
   "metadata": {
    "collapsed": false,
    "ExecuteTime": {
     "end_time": "2023-10-10T20:13:15.112276800Z",
     "start_time": "2023-10-10T20:13:15.071317200Z"
    }
   },
   "id": "644996c8c9800fc0"
  },
  {
   "cell_type": "code",
   "execution_count": 365,
   "outputs": [
    {
     "data": {
      "text/plain": "array([[1., 1., 1.],\n       [1., 1., 1.],\n       [1., 1., 1.]])"
     },
     "execution_count": 365,
     "metadata": {},
     "output_type": "execute_result"
    }
   ],
   "source": [
    "# Array with float ones 3x3 matrix\n",
    "np.ones((3,3), dtype=float)"
   ],
   "metadata": {
    "collapsed": false,
    "ExecuteTime": {
     "end_time": "2023-10-10T20:13:15.112783100Z",
     "start_time": "2023-10-10T20:13:15.076349800Z"
    }
   },
   "id": "735936b0ce70f77b"
  },
  {
   "cell_type": "code",
   "execution_count": 366,
   "outputs": [
    {
     "data": {
      "text/plain": "array([ 0,  5, 10, 15, 20, 25, 30, 35, 40, 45, 50, 55, 60, 65, 70, 75, 80,\n       85, 90, 95])"
     },
     "execution_count": 366,
     "metadata": {},
     "output_type": "execute_result"
    }
   ],
   "source": [
    "# Array with 5 integers from 0 to 100\n",
    "np.arange(0,100,5)"
   ],
   "metadata": {
    "collapsed": false,
    "ExecuteTime": {
     "end_time": "2023-10-10T20:13:15.112783100Z",
     "start_time": "2023-10-10T20:13:15.080364300Z"
    }
   },
   "id": "24b2246c3ab7bbf6"
  },
  {
   "cell_type": "code",
   "execution_count": 367,
   "outputs": [
    {
     "data": {
      "text/plain": "array([0. , 0.5, 1. , 1.5, 2. ])"
     },
     "execution_count": 367,
     "metadata": {},
     "output_type": "execute_result"
    }
   ],
   "source": [
    "# Array with 5 float numbers from 0 to 2\n",
    "np.linspace(0,2,5)"
   ],
   "metadata": {
    "collapsed": false,
    "ExecuteTime": {
     "end_time": "2023-10-10T20:13:15.207342900Z",
     "start_time": "2023-10-10T20:13:15.084449200Z"
    }
   },
   "id": "a6353ffe6b19344b"
  },
  {
   "cell_type": "code",
   "execution_count": 368,
   "outputs": [
    {
     "data": {
      "text/plain": "array([[57, 48, 13, 72, 46, 53,  6, 99, 69, 99],\n       [68, 17, 37, 45, 41, 35, 58, 80, 77, 97],\n       [71, 63, 58, 98, 27, 63, 35, 27, 70, 66],\n       [63, 91, 48, 73, 44, 60, 27, 89, 37, 52],\n       [16, 44, 35, 22, 33, 17, 12, 81, 95, 56],\n       [50,  3, 48, 68, 35,  5, 87, 78,  9, 62],\n       [49,  5, 77, 92, 13, 61, 25, 11, 47, 38],\n       [13, 11, 14, 28, 64, 25, 71, 60, 26, 59],\n       [95, 69, 91, 29, 58, 75, 68,  8, 22, 80],\n       [67, 81, 35, 34, 48, 16, 67, 84, 16, 60]])"
     },
     "execution_count": 368,
     "metadata": {},
     "output_type": "execute_result"
    }
   ],
   "source": [
    "# Random integer array 30x30 matrix\n",
    "np.random.randint(0,100,(10,10))"
   ],
   "metadata": {
    "collapsed": false,
    "ExecuteTime": {
     "end_time": "2023-10-10T20:13:15.207342900Z",
     "start_time": "2023-10-10T20:13:15.088087600Z"
    }
   },
   "id": "6ba64c8e00f717cd"
  },
  {
   "cell_type": "code",
   "execution_count": 369,
   "outputs": [
    {
     "data": {
      "text/plain": "array([[1., 1., 1.],\n       [1., 1., 1.],\n       [1., 1., 1.]])"
     },
     "execution_count": 369,
     "metadata": {},
     "output_type": "execute_result"
    }
   ],
   "source": [
    "#Empty array 3x3 matrix\n",
    "np.empty((3,3))"
   ],
   "metadata": {
    "collapsed": false,
    "ExecuteTime": {
     "end_time": "2023-10-10T20:13:15.207342900Z",
     "start_time": "2023-10-10T20:13:15.090863800Z"
    }
   },
   "id": "a7c67cf6c7eca569"
  },
  {
   "cell_type": "code",
   "execution_count": 370,
   "outputs": [
    {
     "data": {
      "text/plain": "7"
     },
     "execution_count": 370,
     "metadata": {},
     "output_type": "execute_result"
    }
   ],
   "source": [
    "a = np.array([1,4,5,6,7])\n",
    "matrix = np.array([[1,2,3,4,5],[55,66,77,88,99],[111,222,333,444,555]])\n",
    "\n",
    "a[-1]"
   ],
   "metadata": {
    "collapsed": false,
    "ExecuteTime": {
     "end_time": "2023-10-10T20:13:15.207342900Z",
     "start_time": "2023-10-10T20:13:15.096372200Z"
    }
   },
   "id": "125191ed7d4f0d3d"
  },
  {
   "cell_type": "code",
   "execution_count": 371,
   "outputs": [
    {
     "data": {
      "text/plain": "array([1, 4, 5])"
     },
     "execution_count": 371,
     "metadata": {},
     "output_type": "execute_result"
    }
   ],
   "source": [
    "a[0:3]"
   ],
   "metadata": {
    "collapsed": false,
    "ExecuteTime": {
     "end_time": "2023-10-10T20:13:15.207342900Z",
     "start_time": "2023-10-10T20:13:15.099781800Z"
    }
   },
   "id": "744877db63a82838"
  },
  {
   "cell_type": "code",
   "execution_count": 372,
   "outputs": [
    {
     "data": {
      "text/plain": "6"
     },
     "execution_count": 372,
     "metadata": {},
     "output_type": "execute_result"
    }
   ],
   "source": [
    "a[3]"
   ],
   "metadata": {
    "collapsed": false,
    "ExecuteTime": {
     "end_time": "2023-10-10T20:13:15.207342900Z",
     "start_time": "2023-10-10T20:13:15.103846200Z"
    }
   },
   "id": "8a61a12f1e8a6a62"
  },
  {
   "cell_type": "code",
   "execution_count": 373,
   "outputs": [
    {
     "data": {
      "text/plain": "array([[ 77,  88],\n       [333, 444]])"
     },
     "execution_count": 373,
     "metadata": {},
     "output_type": "execute_result"
    }
   ],
   "source": [
    "matrix[1:3,2:4]"
   ],
   "metadata": {
    "collapsed": false,
    "ExecuteTime": {
     "end_time": "2023-10-10T20:13:15.209343600Z",
     "start_time": "2023-10-10T20:13:15.106878100Z"
    }
   },
   "id": "5173b166783ff043"
  },
  {
   "cell_type": "code",
   "execution_count": 374,
   "outputs": [
    {
     "data": {
      "text/plain": "444"
     },
     "execution_count": 374,
     "metadata": {},
     "output_type": "execute_result"
    }
   ],
   "source": [
    "matrix[2][3]"
   ],
   "metadata": {
    "collapsed": false,
    "ExecuteTime": {
     "end_time": "2023-10-10T20:13:15.217374600Z",
     "start_time": "2023-10-10T20:13:15.109834500Z"
    }
   },
   "id": "1ba698aed183875"
  },
  {
   "cell_type": "code",
   "execution_count": 375,
   "outputs": [
    {
     "data": {
      "text/plain": "array([24, 27, 28, 29, 30])"
     },
     "execution_count": 375,
     "metadata": {},
     "output_type": "execute_result"
    }
   ],
   "source": [
    "a + 23"
   ],
   "metadata": {
    "collapsed": false,
    "ExecuteTime": {
     "end_time": "2023-10-10T20:13:15.217374600Z",
     "start_time": "2023-10-10T20:13:15.115298900Z"
    }
   },
   "id": "7b8d9dc9a8d25a0d"
  },
  {
   "cell_type": "code",
   "execution_count": 376,
   "outputs": [
    {
     "data": {
      "text/plain": "array([[  0.5,   1. ,   1.5,   2. ,   2.5],\n       [ 27.5,  33. ,  38.5,  44. ,  49.5],\n       [ 55.5, 111. , 166.5, 222. , 277.5]])"
     },
     "execution_count": 376,
     "metadata": {},
     "output_type": "execute_result"
    }
   ],
   "source": [
    "matrix * 0.5"
   ],
   "metadata": {
    "collapsed": false,
    "ExecuteTime": {
     "end_time": "2023-10-10T20:13:15.217374600Z",
     "start_time": "2023-10-10T20:13:15.120525900Z"
    }
   },
   "id": "8cf9add3efcd4210"
  },
  {
   "cell_type": "code",
   "execution_count": 377,
   "outputs": [
    {
     "data": {
      "text/plain": "array([          1,    16777216,   244140625, -2118184960,   956385313],\n      dtype=int32)"
     },
     "execution_count": 377,
     "metadata": {},
     "output_type": "execute_result"
    }
   ],
   "source": [
    "a ** 12"
   ],
   "metadata": {
    "collapsed": false,
    "ExecuteTime": {
     "end_time": "2023-10-10T20:13:15.217374600Z",
     "start_time": "2023-10-10T20:13:15.123952600Z"
    }
   },
   "id": "744064a04abe04f2"
  },
  {
   "cell_type": "code",
   "execution_count": 378,
   "outputs": [
    {
     "data": {
      "text/plain": "23"
     },
     "execution_count": 378,
     "metadata": {},
     "output_type": "execute_result"
    }
   ],
   "source": [
    "np.add.reduce(a)"
   ],
   "metadata": {
    "collapsed": false,
    "ExecuteTime": {
     "end_time": "2023-10-10T20:13:15.217374600Z",
     "start_time": "2023-10-10T20:13:15.128436500Z"
    }
   },
   "id": "6090330b08eb5314"
  },
  {
   "cell_type": "code",
   "execution_count": 379,
   "outputs": [
    {
     "data": {
      "text/plain": "array([ 1,  5, 10, 16, 23])"
     },
     "execution_count": 379,
     "metadata": {},
     "output_type": "execute_result"
    }
   ],
   "source": [
    "np.add.accumulate(a)"
   ],
   "metadata": {
    "collapsed": false,
    "ExecuteTime": {
     "end_time": "2023-10-10T20:13:15.217374600Z",
     "start_time": "2023-10-10T20:13:15.132225300Z"
    }
   },
   "id": "d22523bce981c4d"
  },
  {
   "cell_type": "code",
   "execution_count": 380,
   "outputs": [
    {
     "data": {
      "text/plain": "array([[1.        , 0.25      , 0.2       , 0.16666667, 0.14285714],\n       [4.        , 1.        , 0.8       , 0.66666667, 0.57142857],\n       [5.        , 1.25      , 1.        , 0.83333333, 0.71428571],\n       [6.        , 1.5       , 1.2       , 1.        , 0.85714286],\n       [7.        , 1.75      , 1.4       , 1.16666667, 1.        ]])"
     },
     "execution_count": 380,
     "metadata": {},
     "output_type": "execute_result"
    }
   ],
   "source": [
    "np.divide.outer(a,a)"
   ],
   "metadata": {
    "collapsed": false,
    "ExecuteTime": {
     "end_time": "2023-10-10T20:13:15.218374700Z",
     "start_time": "2023-10-10T20:13:15.135961500Z"
    }
   },
   "id": "3d70a730d8c9c2c1"
  },
  {
   "cell_type": "code",
   "execution_count": 381,
   "outputs": [
    {
     "data": {
      "text/plain": "2.5"
     },
     "execution_count": 381,
     "metadata": {},
     "output_type": "execute_result"
    }
   ],
   "source": [
    "data = pd.read_csv('iris.csv')\n",
    "petals = data[['petal_width']]\n",
    "\n",
    "#max petal width\n",
    "np.max(petals)"
   ],
   "metadata": {
    "collapsed": false,
    "ExecuteTime": {
     "end_time": "2023-10-10T20:13:15.218374700Z",
     "start_time": "2023-10-10T20:13:15.142562300Z"
    }
   },
   "id": "87a5c1258478361f"
  },
  {
   "cell_type": "code",
   "execution_count": 382,
   "outputs": [
    {
     "data": {
      "text/plain": "0.1"
     },
     "execution_count": 382,
     "metadata": {},
     "output_type": "execute_result"
    }
   ],
   "source": [
    "#min petal width\n",
    "np.min(petals)"
   ],
   "metadata": {
    "collapsed": false,
    "ExecuteTime": {
     "end_time": "2023-10-10T20:13:15.218374700Z",
     "start_time": "2023-10-10T20:13:15.148145200Z"
    }
   },
   "id": "28b41f2d0e8020d9"
  },
  {
   "cell_type": "code",
   "execution_count": 383,
   "outputs": [
    {
     "data": {
      "text/plain": "1.1986666666666668"
     },
     "execution_count": 383,
     "metadata": {},
     "output_type": "execute_result"
    }
   ],
   "source": [
    "#mean petal width\n",
    "np.mean(petals)"
   ],
   "metadata": {
    "collapsed": false,
    "ExecuteTime": {
     "end_time": "2023-10-10T20:13:15.218374700Z",
     "start_time": "2023-10-10T20:13:15.152187400Z"
    }
   },
   "id": "cc981faaead69fe5"
  },
  {
   "cell_type": "code",
   "execution_count": 384,
   "outputs": [
    {
     "name": "stderr",
     "output_type": "stream",
     "text": [
      "F:\\univer\\data\\py-lab1\\venv\\Lib\\site-packages\\numpy\\core\\fromnumeric.py:3785: FutureWarning: The behavior of DataFrame.var with axis=None is deprecated, in a future version this will reduce over both axes and return a scalar. To retain the old behavior, pass axis=0 (or do not pass axis)\n",
      "  return var(axis=axis, dtype=dtype, out=out, ddof=ddof, **kwargs)\n"
     ]
    },
    {
     "data": {
      "text/plain": "petal_width    0.578532\ndtype: float64"
     },
     "execution_count": 384,
     "metadata": {},
     "output_type": "execute_result"
    }
   ],
   "source": [
    "#variance petal width\n",
    "np.var(petals)"
   ],
   "metadata": {
    "collapsed": false,
    "ExecuteTime": {
     "end_time": "2023-10-10T20:13:15.218374700Z",
     "start_time": "2023-10-10T20:13:15.156806700Z"
    }
   },
   "id": "17d4b3e9d35207e9"
  },
  {
   "cell_type": "code",
   "execution_count": 385,
   "outputs": [
    {
     "name": "stderr",
     "output_type": "stream",
     "text": [
      "F:\\univer\\data\\py-lab1\\venv\\Lib\\site-packages\\numpy\\core\\fromnumeric.py:3643: FutureWarning: The behavior of DataFrame.std with axis=None is deprecated, in a future version this will reduce over both axes and return a scalar. To retain the old behavior, pass axis=0 (or do not pass axis)\n",
      "  return std(axis=axis, dtype=dtype, out=out, ddof=ddof, **kwargs)\n"
     ]
    },
    {
     "data": {
      "text/plain": "petal_width    0.760613\ndtype: float64"
     },
     "execution_count": 385,
     "metadata": {},
     "output_type": "execute_result"
    }
   ],
   "source": [
    "#standard deviation petal width\n",
    "np.std(petals)"
   ],
   "metadata": {
    "collapsed": false,
    "ExecuteTime": {
     "end_time": "2023-10-10T20:13:15.218374700Z",
     "start_time": "2023-10-10T20:13:15.161555Z"
    }
   },
   "id": "b94a0110b2428ea"
  },
  {
   "cell_type": "code",
   "execution_count": 386,
   "outputs": [
    {
     "data": {
      "text/plain": "1.3"
     },
     "execution_count": 386,
     "metadata": {},
     "output_type": "execute_result"
    }
   ],
   "source": [
    "#median petal width\n",
    "np.median(petals)"
   ],
   "metadata": {
    "collapsed": false,
    "ExecuteTime": {
     "end_time": "2023-10-10T20:13:15.218374700Z",
     "start_time": "2023-10-10T20:13:15.167225200Z"
    }
   },
   "id": "44c562aab4021f21"
  },
  {
   "cell_type": "code",
   "execution_count": 387,
   "outputs": [
    {
     "data": {
      "text/plain": "0.3"
     },
     "execution_count": 387,
     "metadata": {},
     "output_type": "execute_result"
    }
   ],
   "source": [
    "#25 percentile petal width\n",
    "np.percentile(petals, 25)"
   ],
   "metadata": {
    "collapsed": false,
    "ExecuteTime": {
     "end_time": "2023-10-10T20:13:15.218374700Z",
     "start_time": "2023-10-10T20:13:15.172194500Z"
    }
   },
   "id": "3da061c2c2670531"
  },
  {
   "cell_type": "code",
   "execution_count": 388,
   "outputs": [
    {
     "data": {
      "text/plain": "1.8"
     },
     "execution_count": 388,
     "metadata": {},
     "output_type": "execute_result"
    }
   ],
   "source": [
    "#75 percentile petal width\n",
    "np.percentile(petals, 75)"
   ],
   "metadata": {
    "collapsed": false,
    "ExecuteTime": {
     "end_time": "2023-10-10T20:13:15.218374700Z",
     "start_time": "2023-10-10T20:13:15.174398400Z"
    }
   },
   "id": "6bd88dd538fc3e24"
  }
 ],
 "metadata": {
  "kernelspec": {
   "display_name": "Python 3 (ipykernel)",
   "language": "python",
   "name": "python3"
  },
  "language_info": {
   "codemirror_mode": {
    "name": "ipython",
    "version": 3
   },
   "file_extension": ".py",
   "mimetype": "text/x-python",
   "name": "python",
   "nbconvert_exporter": "python",
   "pygments_lexer": "ipython3",
   "version": "3.11.2"
  }
 },
 "nbformat": 4,
 "nbformat_minor": 5
}
